{
 "cells": [
  {
   "cell_type": "markdown",
   "execution_count": null,
   "metadata": {},
   "source": [
    "# Convolutional Neural Network (CNN)\n",
    "\n",
    "<font color=\"blue\">**Content:** </font>\n",
    "* <font color=\"blue\">Learning:</font>\n",
    "    * [Convolutional Layer](#1)\n",
    "    * [Non-linearity](#2)\n",
    "    * [Pooling Layer](#3)\n",
    "    * [Flattening Layer](#4)\n",
    "    * [Fully-Connected Layer](#5)\n",
    "* <font color=\"blue\">Practice:</font>\n",
    "    * [Loading the Data Set](#6)\n",
    "    * [Normalization, Reshape and Label Encoding](#7)\n",
    "    * [Train Test Split](#8)\n",
    "\n",
    "---\n",
    "\n",
    "When you upload an image to Facebook, you ask \"Do you want to tag the X person?\" makes a proposition. So did you wonder how you knew that person?\n",
    "Or have you ever thought how Google's image search algorithm works?\n",
    "There is a neural network behind all this. To be more precise, we are talking about the Convolutional Neural Network (ConvNet or CNN). . While CNN may seem like a strange mixture of biology and computer science, this is a very effective mechanism used for image recognition.\n",
    "\n",
    "Cnn use unique features that make a plane a plane or a snake to distinguish the images given. In fact, this process is also unconscious in our brains.\n",
    "For example, when we look at an airplane picture, we can identify the airplane by separating the features such as two wings, engines, windows. Cnn does the same, but previously they detect low-level properties such as curves and edges and create them up to more abstract concepts.\n",
    "\n",
    "To achieve the functionality we talked about, Cnn processes the image with various layers. Let's give an overview of these layers and their objectives:\n",
    "- **Convolutional Layer: ** Used to detect features \n",
    "- **Non-Linearity Layer: ** Introducing non-linearity to the system\n",
    "- **Pooling (Downsampling) Layer: ** Reduces weight count and checks fitness\n",
    "- **Flattening Layer: ** Prepares data for Classical Neural Network\n",
    "- **Fully-Connected Layer: ** Standard Neural Network used in classification\n",
    "\n",
    "\n",
    "Basically, Cnn uses the standard Neural Network to solve the classification problem, but uses other layers to identify information and identify some features.\n",
    "Let's dive into the details of each layer and its functions."
   ]
  },
  {
   "cell_type": "markdown",
   "execution_count": null,
   "metadata": {},
   "source": [
    "# Convolutional Layer <a id=\"1\"></a>\n",
    "This layer is the main building block of CNN. Responsible for perceiving the features of the picture. This layer applies some filters to the image to remove low and high level features in the image. For example, this filter may be a filter to detect edges. These filters are usually multi-dimensional and contain pixel values. (5x5x3) represent the height and width of 5 matrices, the depth of 3 matrices.\n",
    "\n",
    "<img src=\"https://lh3.googleusercontent.com/proxy/JMtwv40-TRsA0RZU0z07y8ICXS6QNHETJsty61fBKvg98tIxYPMhYhUHIStO4mem8r3kB0R3W9P0HMj7Oi8iBvh5422oRxJWqq2-Kj_tsCAT3DAagjLER7uGdd4-S_-RwbnKxnw9UEg\" width=\"150\" height=\"150\"/>\n",
    "\n",
    "For example, only 1 channel will be processed for simplicity.\n",
    "Let's assume that the picture is a 5 × 5 dimension and consists of 1's and 0's. Let's create our filter in 3 × 3 dimensions.\n",
    "\n",
    "<img src=\"https://lh3.googleusercontent.com/dhMlStbHduqMth-g5mXnI4D2uRY4ScR9IVKxJJ9uZ0mSzaoWfLgM8u11YSPraHwZAAnhsw=s69\" width=\"75\" height=\"75\"/>\n",
    "\n",
    "Now let's take a look at how the filter is applied:\n",
    "\n",
    "<img src=\"https://eg.bucknell.edu/~cld028/courses/379-FA19/images/ConvEx.gif\" width=\"400\" height=\"400\"/>\n",
    "\n",
    "First, the filter is positioned in the upper left corner of the image. Here, the indices between the two matrices (image and filter) are multiplied by each other and all the results are summed, then the result is stored in the output matrix. Then move this filter to the right by 1 pixel (also known as “step”) and repeat the process. After the 1st line is over, the 2nd line is passed and the transactions are repeated. The output matrix is created after all operations are finished. The reason why the output matrix is 3 × 3 is because the 3 × 3 filter in the 5 × 5 matrix moves 3 times horizontally and vertically.\n",
    "\n",
    "If the image was 6 × 4 and the filter was 3 × 3, the output matrix would be 4 × 2.\n",
    "\n",
    "So what does the output matrix tell us? This matrix is often called Feature Map. Shows the location of the image in the property represented by the filter. In short, we detect our properties by moving the filter over the image and using the simple matrix product.\n",
    "Usually, multiple filters are used to detect multiple features, that is, a Cnn network has multiple Convolutional layers. Take a look at the animation below, here is a little more visually explained:\n",
    "\n",
    "<img src=\"https://www.apsl.net/media/apslweb/images/giphy.original.gif\" width=\"400\" height=\"215\"/>\n",
    "\n",
    "When we apply the first filter, we create a Feature Map and identify a feature type. Next, we create a second Feature Map that uses a second filter and detects another feature type.\n",
    "As we can see in the example above, these filters can be simple, but they can become complicated if you want to extract some complex features in the image. You can browse the animation below to see more complex filters.\n",
    "\n",
    "<img src=\"https://cdn-images-1.medium.com/max/640/1*S1WhBMR7wLN4DViZTljQ5w.gif\" width=\"550\" height=\"200\"/>\n",
    "\n",
    "Another thing we mentioned earlier, but not explained in detail, is stride.\n",
    "\n",
    "This term is often used in conjunction with the term padding. Stride controls how the filter evolves around the input image. In the example above, Stride was 1 pixel, but it could be larger. This affects the size of the output of the Feature Map.\n",
    "\n",
    "In the early stages of Cnn, we need to protect as much information as possible for other Convolutional Layers when applying the first filters. Here padding is used for this reason. You may have noticed that the Feature Map is smaller than the original input image. Therefore, Padding will add zero values to this map to maintain the size of the image (as in the image below):\n",
    "\n",
    "<img src=\"https://cdn-images-1.medium.com/max/1000/0*wD3fHOCzj9cWXt_6\" width=\"260\" height=\"250\"/>"
   ]
  },
  {
   "cell_type": "markdown",
   "execution_count": null,
   "metadata": {},
   "source": [
    "# Non-linearity  <a id=\"2\"></a>\n",
    "Non-Linearity layer usually comes after all Convolutional layers. So why is the linearity in the image a problem? The problem is that the Neural Network acts as a single perception, since all layers can be a linear function, so the result can be calculated as a linear combination of outputs. This layer is called Activation Layer because one of the activation functions is used. In the past, nonlinear functions such as sigmoid and tahn have been used, but this function is now being used as the Rectifier (ReLu) function gives the best result on the speed of Neural Network training.\n",
    "> **ReLu Function f(x) = max(0, x)**\n",
    "\n",
    "When the ReLu function is applied to the Feature Map, a result like below is produced.\n",
    "\n",
    "<img src=\"https://miro.medium.com/max/1240/0*AgDOXRGswiJSQ9mB\" width=\"650\" height=\"220\"/>\n",
    "\n",
    "Black values ​​in the Feature Map are negative. After relu function is applied, black values are removed and 0 is replaced."
   ]
  },
  {
   "cell_type": "markdown",
   "execution_count": null,
   "metadata": {},
   "source": [
    "# Pooling Layer  <a id=\"3\"></a>\n",
    "This layer is a layer that is frequently added between consecutive convolutional layers in CovNet. The task of this layer is to reduce the shift size of the impression and the parameters and number of calculations within the network. In this way, incompatibility in the network is checked. There are many Pooling operations, but the most popular is max pooling. There are also average pooling, and L2-norm pooling algorithms working on the same principle.\n",
    "Let's go by explaining this process over the figures. First of all, let's create a 2×2 filter. You can see this filter on the picture below (4x4). As you can see in the picture, the filter gets the largest number in the area it covers. In this way, it uses smaller outputs that contain enough information for the neural network to make the right decision.\n",
    "\n",
    "<img src=\"https://www.oreilly.com/radar/wp-content/uploads/sites/3/2019/06/Figure_4-87c227113cdd0b73d842267404d4aa00.gif\" width=\"500\" height=\"300\"/>\n",
    "\n",
    "\n",
    "# Flattening Layer <a id=\"4\"></a>\n",
    "The task of this layer is simply to prepare the data at the entrance of the last and most important layer, Fully Connected Layer. Generally, neural networks receive input data from a one-dimensional array. The data in this neural network is the one-dimensional array of matrixes from the Convolutional and Pooling layer.\n",
    "\n",
    "<img src=\"https://sds-platform-private.s3-us-east-2.amazonaws.com/uploads/73_blog_image_1.png\" width=\"900\" height=\"450\"/>\n",
    "\n",
    "\n",
    "# Fully-Connected Layer  <a id=\"5\"></a>\n",
    "This layer is the last and most important layer of ConvNet. It takes the data from the flattening process and performs the learning process via the neural network.\n",
    "\n",
    "---"
   ]
  },
  {
   "cell_type": "code",
   "execution_count": 1,
   "metadata": {
    "_cell_guid": "b1076dfc-b9ad-4769-8c92-a6c4dae69d19",
    "_uuid": "8f2839f25d086af736a60e9eeb907d3b93b6e0e5"
   },
   "outputs": [
    {
     "name": "stdout",
     "output_type": "stream",
     "text": [
      "/dataset/input/sign-language-mnist/american_sign_language.PNG\n",
      "/dataset/input/sign-language-mnist/amer_sign3.png\n",
      "/dataset/input/sign-language-mnist/sign_mnist_train.csv\n",
      "/dataset/input/sign-language-mnist/sign_mnist_test.csv\n",
      "/dataset/input/sign-language-mnist/amer_sign2.png\n",
      "/dataset/input/sign-language-mnist/sign_mnist_test/sign_mnist_test.csv\n",
      "/dataset/input/sign-language-mnist/sign_mnist_train/sign_mnist_train.csv\n"
     ]
    }
   ],
   "source": [
    "# This Python 3 environment comes with many helpful analytics libraries installed\n",
    "# It is defined by the dataset/python Docker image: https://github.com/dataset/docker-python\n",
    "\n",
    "import numpy as np\n",
    "import pandas as pd\n",
    "import seaborn as sns\n",
    "import matplotlib.pyplot as plt\n",
    "\n",
    "import warnings\n",
    "warnings.filterwarnings('ignore')\n",
    "\n",
    "import os\n",
    "for dirname, _, filenames in os.walk('/dataset/input'):\n",
    "    for filename in filenames:\n",
    "        print(os.path.join(dirname, filename))"
   ]
  },
  {
   "cell_type": "markdown",
   "execution_count": null,
   "metadata": {},
   "source": [
    "# Loading the Data Set <a id=\"6\"></a>\n",
    "* In this part we load and visualize the data.\n"
   ]
  },
  {
   "cell_type": "code",
   "execution_count": 2,
   "metadata": {
    "_cell_guid": "79c7e3d0-c299-4dcb-8224-4455121ee9b0",
    "_uuid": "d629ff2d2480ee46fbb7e2d37f6b5fab8052498a"
   },
   "outputs": [
    {
     "data": {
      "text/html": [
       "<div>\n",
       "<style scoped>\n",
       "    .dataframe tbody tr th:only-of-type {\n",
       "        vertical-align: middle;\n",
       "    }\n",
       "\n",
       "    .dataframe tbody tr th {\n",
       "        vertical-align: top;\n",
       "    }\n",
       "\n",
       "    .dataframe thead th {\n",
       "        text-align: right;\n",
       "    }\n",
       "</style>\n",
       "<table border=\"1\" class=\"dataframe\">\n",
       "  <thead>\n",
       "    <tr style=\"text-align: right;\">\n",
       "      <th></th>\n",
       "      <th>label</th>\n",
       "      <th>pixel1</th>\n",
       "      <th>pixel2</th>\n",
       "      <th>pixel3</th>\n",
       "      <th>pixel4</th>\n",
       "      <th>pixel5</th>\n",
       "      <th>pixel6</th>\n",
       "      <th>pixel7</th>\n",
       "      <th>pixel8</th>\n",
       "      <th>pixel9</th>\n",
       "      <th>...</th>\n",
       "      <th>pixel775</th>\n",
       "      <th>pixel776</th>\n",
       "      <th>pixel777</th>\n",
       "      <th>pixel778</th>\n",
       "      <th>pixel779</th>\n",
       "      <th>pixel780</th>\n",
       "      <th>pixel781</th>\n",
       "      <th>pixel782</th>\n",
       "      <th>pixel783</th>\n",
       "      <th>pixel784</th>\n",
       "    </tr>\n",
       "  </thead>\n",
       "  <tbody>\n",
       "    <tr>\n",
       "      <th>0</th>\n",
       "      <td>3</td>\n",
       "      <td>107</td>\n",
       "      <td>118</td>\n",
       "      <td>127</td>\n",
       "      <td>134</td>\n",
       "      <td>139</td>\n",
       "      <td>143</td>\n",
       "      <td>146</td>\n",
       "      <td>150</td>\n",
       "      <td>153</td>\n",
       "      <td>...</td>\n",
       "      <td>207</td>\n",
       "      <td>207</td>\n",
       "      <td>207</td>\n",
       "      <td>207</td>\n",
       "      <td>206</td>\n",
       "      <td>206</td>\n",
       "      <td>206</td>\n",
       "      <td>204</td>\n",
       "      <td>203</td>\n",
       "      <td>202</td>\n",
       "    </tr>\n",
       "    <tr>\n",
       "      <th>1</th>\n",
       "      <td>6</td>\n",
       "      <td>155</td>\n",
       "      <td>157</td>\n",
       "      <td>156</td>\n",
       "      <td>156</td>\n",
       "      <td>156</td>\n",
       "      <td>157</td>\n",
       "      <td>156</td>\n",
       "      <td>158</td>\n",
       "      <td>158</td>\n",
       "      <td>...</td>\n",
       "      <td>69</td>\n",
       "      <td>149</td>\n",
       "      <td>128</td>\n",
       "      <td>87</td>\n",
       "      <td>94</td>\n",
       "      <td>163</td>\n",
       "      <td>175</td>\n",
       "      <td>103</td>\n",
       "      <td>135</td>\n",
       "      <td>149</td>\n",
       "    </tr>\n",
       "    <tr>\n",
       "      <th>2</th>\n",
       "      <td>2</td>\n",
       "      <td>187</td>\n",
       "      <td>188</td>\n",
       "      <td>188</td>\n",
       "      <td>187</td>\n",
       "      <td>187</td>\n",
       "      <td>186</td>\n",
       "      <td>187</td>\n",
       "      <td>188</td>\n",
       "      <td>187</td>\n",
       "      <td>...</td>\n",
       "      <td>202</td>\n",
       "      <td>201</td>\n",
       "      <td>200</td>\n",
       "      <td>199</td>\n",
       "      <td>198</td>\n",
       "      <td>199</td>\n",
       "      <td>198</td>\n",
       "      <td>195</td>\n",
       "      <td>194</td>\n",
       "      <td>195</td>\n",
       "    </tr>\n",
       "    <tr>\n",
       "      <th>3</th>\n",
       "      <td>2</td>\n",
       "      <td>211</td>\n",
       "      <td>211</td>\n",
       "      <td>212</td>\n",
       "      <td>212</td>\n",
       "      <td>211</td>\n",
       "      <td>210</td>\n",
       "      <td>211</td>\n",
       "      <td>210</td>\n",
       "      <td>210</td>\n",
       "      <td>...</td>\n",
       "      <td>235</td>\n",
       "      <td>234</td>\n",
       "      <td>233</td>\n",
       "      <td>231</td>\n",
       "      <td>230</td>\n",
       "      <td>226</td>\n",
       "      <td>225</td>\n",
       "      <td>222</td>\n",
       "      <td>229</td>\n",
       "      <td>163</td>\n",
       "    </tr>\n",
       "    <tr>\n",
       "      <th>4</th>\n",
       "      <td>13</td>\n",
       "      <td>164</td>\n",
       "      <td>167</td>\n",
       "      <td>170</td>\n",
       "      <td>172</td>\n",
       "      <td>176</td>\n",
       "      <td>179</td>\n",
       "      <td>180</td>\n",
       "      <td>184</td>\n",
       "      <td>185</td>\n",
       "      <td>...</td>\n",
       "      <td>92</td>\n",
       "      <td>105</td>\n",
       "      <td>105</td>\n",
       "      <td>108</td>\n",
       "      <td>133</td>\n",
       "      <td>163</td>\n",
       "      <td>157</td>\n",
       "      <td>163</td>\n",
       "      <td>164</td>\n",
       "      <td>179</td>\n",
       "    </tr>\n",
       "  </tbody>\n",
       "</table>\n",
       "<p>5 rows × 785 columns</p>\n",
       "</div>"
      ],
      "text/plain": [
       "   label  pixel1  pixel2  pixel3  pixel4  pixel5  pixel6  pixel7  pixel8  \\\n",
       "0      3     107     118     127     134     139     143     146     150   \n",
       "1      6     155     157     156     156     156     157     156     158   \n",
       "2      2     187     188     188     187     187     186     187     188   \n",
       "3      2     211     211     212     212     211     210     211     210   \n",
       "4     13     164     167     170     172     176     179     180     184   \n",
       "\n",
       "   pixel9  ...  pixel775  pixel776  pixel777  pixel778  pixel779  pixel780  \\\n",
       "0     153  ...       207       207       207       207       206       206   \n",
       "1     158  ...        69       149       128        87        94       163   \n",
       "2     187  ...       202       201       200       199       198       199   \n",
       "3     210  ...       235       234       233       231       230       226   \n",
       "4     185  ...        92       105       105       108       133       163   \n",
       "\n",
       "   pixel781  pixel782  pixel783  pixel784  \n",
       "0       206       204       203       202  \n",
       "1       175       103       135       149  \n",
       "2       198       195       194       195  \n",
       "3       225       222       229       163  \n",
       "4       157       163       164       179  \n",
       "\n",
       "[5 rows x 785 columns]"
      ]
     },
     "execution_count": 2,
     "metadata": {},
     "output_type": "execute_result"
    }
   ],
   "source": [
    "train_df = pd.read_csv(\"/dataset/input/sign-language-mnist/sign_mnist_train.csv\")\n",
    "train_df.head()"
   ]
  },
  {
   "cell_type": "code",
   "execution_count": 3,
   "metadata": {},
   "outputs": [
    {
     "data": {
      "text/html": [
       "<div>\n",
       "<style scoped>\n",
       "    .dataframe tbody tr th:only-of-type {\n",
       "        vertical-align: middle;\n",
       "    }\n",
       "\n",
       "    .dataframe tbody tr th {\n",
       "        vertical-align: top;\n",
       "    }\n",
       "\n",
       "    .dataframe thead th {\n",
       "        text-align: right;\n",
       "    }\n",
       "</style>\n",
       "<table border=\"1\" class=\"dataframe\">\n",
       "  <thead>\n",
       "    <tr style=\"text-align: right;\">\n",
       "      <th></th>\n",
       "      <th>X</th>\n",
       "      <th>Y</th>\n",
       "    </tr>\n",
       "  </thead>\n",
       "  <tbody>\n",
       "    <tr>\n",
       "      <th>0</th>\n",
       "      <td>Train Shape</td>\n",
       "      <td>(27455, 785)</td>\n",
       "    </tr>\n",
       "    <tr>\n",
       "      <th>1</th>\n",
       "      <td>Different number of labels</td>\n",
       "      <td>[3, 6, 2, 13, 16, 8, 22, 18, 10, 20, 17, 19, 2...</td>\n",
       "    </tr>\n",
       "    <tr>\n",
       "      <th>2</th>\n",
       "      <td>Different number of labels (Sum)</td>\n",
       "      <td>24</td>\n",
       "    </tr>\n",
       "  </tbody>\n",
       "</table>\n",
       "</div>"
      ],
      "text/plain": [
       "                                  X  \\\n",
       "0                       Train Shape   \n",
       "1        Different number of labels   \n",
       "2  Different number of labels (Sum)   \n",
       "\n",
       "                                                   Y  \n",
       "0                                       (27455, 785)  \n",
       "1  [3, 6, 2, 13, 16, 8, 22, 18, 10, 20, 17, 19, 2...  \n",
       "2                                                 24  "
      ]
     },
     "execution_count": 3,
     "metadata": {},
     "output_type": "execute_result"
    }
   ],
   "source": [
    "pd.DataFrame({\n",
    "    'X': ['Train Shape','Different number of labels','Different number of labels (Sum)' ],\n",
    "    'Y': [train_df.shape, train_df.label.unique(), len(train_df.label.unique())],\n",
    "})"
   ]
  },
  {
   "cell_type": "code",
   "execution_count": 4,
   "metadata": {},
   "outputs": [
    {
     "name": "stdout",
     "output_type": "stream",
     "text": [
      "Test Shape:  (7172, 785)\n"
     ]
    },
    {
     "data": {
      "text/html": [
       "<div>\n",
       "<style scoped>\n",
       "    .dataframe tbody tr th:only-of-type {\n",
       "        vertical-align: middle;\n",
       "    }\n",
       "\n",
       "    .dataframe tbody tr th {\n",
       "        vertical-align: top;\n",
       "    }\n",
       "\n",
       "    .dataframe thead th {\n",
       "        text-align: right;\n",
       "    }\n",
       "</style>\n",
       "<table border=\"1\" class=\"dataframe\">\n",
       "  <thead>\n",
       "    <tr style=\"text-align: right;\">\n",
       "      <th></th>\n",
       "      <th>label</th>\n",
       "      <th>pixel1</th>\n",
       "      <th>pixel2</th>\n",
       "      <th>pixel3</th>\n",
       "      <th>pixel4</th>\n",
       "      <th>pixel5</th>\n",
       "      <th>pixel6</th>\n",
       "      <th>pixel7</th>\n",
       "      <th>pixel8</th>\n",
       "      <th>pixel9</th>\n",
       "      <th>...</th>\n",
       "      <th>pixel775</th>\n",
       "      <th>pixel776</th>\n",
       "      <th>pixel777</th>\n",
       "      <th>pixel778</th>\n",
       "      <th>pixel779</th>\n",
       "      <th>pixel780</th>\n",
       "      <th>pixel781</th>\n",
       "      <th>pixel782</th>\n",
       "      <th>pixel783</th>\n",
       "      <th>pixel784</th>\n",
       "    </tr>\n",
       "  </thead>\n",
       "  <tbody>\n",
       "    <tr>\n",
       "      <th>0</th>\n",
       "      <td>6</td>\n",
       "      <td>149</td>\n",
       "      <td>149</td>\n",
       "      <td>150</td>\n",
       "      <td>150</td>\n",
       "      <td>150</td>\n",
       "      <td>151</td>\n",
       "      <td>151</td>\n",
       "      <td>150</td>\n",
       "      <td>151</td>\n",
       "      <td>...</td>\n",
       "      <td>138</td>\n",
       "      <td>148</td>\n",
       "      <td>127</td>\n",
       "      <td>89</td>\n",
       "      <td>82</td>\n",
       "      <td>96</td>\n",
       "      <td>106</td>\n",
       "      <td>112</td>\n",
       "      <td>120</td>\n",
       "      <td>107</td>\n",
       "    </tr>\n",
       "    <tr>\n",
       "      <th>1</th>\n",
       "      <td>5</td>\n",
       "      <td>126</td>\n",
       "      <td>128</td>\n",
       "      <td>131</td>\n",
       "      <td>132</td>\n",
       "      <td>133</td>\n",
       "      <td>134</td>\n",
       "      <td>135</td>\n",
       "      <td>135</td>\n",
       "      <td>136</td>\n",
       "      <td>...</td>\n",
       "      <td>47</td>\n",
       "      <td>104</td>\n",
       "      <td>194</td>\n",
       "      <td>183</td>\n",
       "      <td>186</td>\n",
       "      <td>184</td>\n",
       "      <td>184</td>\n",
       "      <td>184</td>\n",
       "      <td>182</td>\n",
       "      <td>180</td>\n",
       "    </tr>\n",
       "    <tr>\n",
       "      <th>2</th>\n",
       "      <td>10</td>\n",
       "      <td>85</td>\n",
       "      <td>88</td>\n",
       "      <td>92</td>\n",
       "      <td>96</td>\n",
       "      <td>105</td>\n",
       "      <td>123</td>\n",
       "      <td>135</td>\n",
       "      <td>143</td>\n",
       "      <td>147</td>\n",
       "      <td>...</td>\n",
       "      <td>68</td>\n",
       "      <td>166</td>\n",
       "      <td>242</td>\n",
       "      <td>227</td>\n",
       "      <td>230</td>\n",
       "      <td>227</td>\n",
       "      <td>226</td>\n",
       "      <td>225</td>\n",
       "      <td>224</td>\n",
       "      <td>222</td>\n",
       "    </tr>\n",
       "    <tr>\n",
       "      <th>3</th>\n",
       "      <td>0</td>\n",
       "      <td>203</td>\n",
       "      <td>205</td>\n",
       "      <td>207</td>\n",
       "      <td>206</td>\n",
       "      <td>207</td>\n",
       "      <td>209</td>\n",
       "      <td>210</td>\n",
       "      <td>209</td>\n",
       "      <td>210</td>\n",
       "      <td>...</td>\n",
       "      <td>154</td>\n",
       "      <td>248</td>\n",
       "      <td>247</td>\n",
       "      <td>248</td>\n",
       "      <td>253</td>\n",
       "      <td>236</td>\n",
       "      <td>230</td>\n",
       "      <td>240</td>\n",
       "      <td>253</td>\n",
       "      <td>255</td>\n",
       "    </tr>\n",
       "    <tr>\n",
       "      <th>4</th>\n",
       "      <td>3</td>\n",
       "      <td>188</td>\n",
       "      <td>191</td>\n",
       "      <td>193</td>\n",
       "      <td>195</td>\n",
       "      <td>199</td>\n",
       "      <td>201</td>\n",
       "      <td>202</td>\n",
       "      <td>203</td>\n",
       "      <td>203</td>\n",
       "      <td>...</td>\n",
       "      <td>26</td>\n",
       "      <td>40</td>\n",
       "      <td>64</td>\n",
       "      <td>48</td>\n",
       "      <td>29</td>\n",
       "      <td>46</td>\n",
       "      <td>49</td>\n",
       "      <td>46</td>\n",
       "      <td>46</td>\n",
       "      <td>53</td>\n",
       "    </tr>\n",
       "  </tbody>\n",
       "</table>\n",
       "<p>5 rows × 785 columns</p>\n",
       "</div>"
      ],
      "text/plain": [
       "   label  pixel1  pixel2  pixel3  pixel4  pixel5  pixel6  pixel7  pixel8  \\\n",
       "0      6     149     149     150     150     150     151     151     150   \n",
       "1      5     126     128     131     132     133     134     135     135   \n",
       "2     10      85      88      92      96     105     123     135     143   \n",
       "3      0     203     205     207     206     207     209     210     209   \n",
       "4      3     188     191     193     195     199     201     202     203   \n",
       "\n",
       "   pixel9  ...  pixel775  pixel776  pixel777  pixel778  pixel779  pixel780  \\\n",
       "0     151  ...       138       148       127        89        82        96   \n",
       "1     136  ...        47       104       194       183       186       184   \n",
       "2     147  ...        68       166       242       227       230       227   \n",
       "3     210  ...       154       248       247       248       253       236   \n",
       "4     203  ...        26        40        64        48        29        46   \n",
       "\n",
       "   pixel781  pixel782  pixel783  pixel784  \n",
       "0       106       112       120       107  \n",
       "1       184       184       182       180  \n",
       "2       226       225       224       222  \n",
       "3       230       240       253       255  \n",
       "4        49        46        46        53  \n",
       "\n",
       "[5 rows x 785 columns]"
      ]
     },
     "execution_count": 4,
     "metadata": {},
     "output_type": "execute_result"
    }
   ],
   "source": [
    "test_df = pd.read_csv(\"/dataset/input/sign-language-mnist/sign_mnist_test.csv\")\n",
    "print(\"Test Shape: \", test_df.shape)\n",
    "test_df.head()"
   ]
  },
  {
   "cell_type": "code",
   "execution_count": 5,
   "metadata": {},
   "outputs": [
    {
     "data": {
      "image/png": "[encoded data removed]",
      "text/plain": [
       "<Figure size 432x288 with 1 Axes>"
      ]
     },
     "metadata": {},
     "output_type": "display_data"
    }
   ],
   "source": [
    "my_circle = plt.Circle( (0,0), 0.7, color='white')\n",
    "plt.pie([len(train_df),len(test_df)], labels=[\"Train\",\"Test\"], colors=['green','skyblue'])\n",
    "p = plt.gcf()\n",
    "p.gca().add_artist(my_circle)\n",
    "plt.show()"
   ]
  },
  {
   "cell_type": "code",
   "execution_count": 6,
   "metadata": {},
   "outputs": [],
   "source": [
    "# I synchronize the numbers it represents to a variable in the form of an array\n",
    "Y_train = train_df['label']\n",
    "Y_test = test_df['label']\n",
    "\n",
    "X_train = train_df.drop([\"label\"],axis=1)\n",
    "X_test = test_df.drop([\"label\"],axis=1)\n",
    "\n",
    "del train_df['label']\n",
    "del test_df['label']"
   ]
  },
  {
   "cell_type": "code",
   "execution_count": 7,
   "metadata": {},
   "outputs": [
    {
     "data": {
      "text/plain": [
       "17    1294\n",
       "16    1279\n",
       "11    1241\n",
       "22    1225\n",
       "5     1204\n",
       "18    1199\n",
       "14    1196\n",
       "3     1196\n",
       "19    1186\n",
       "23    1164\n",
       "8     1162\n",
       "20    1161\n",
       "13    1151\n",
       "2     1144\n",
       "0     1126\n",
       "24    1118\n",
       "10    1114\n",
       "6     1090\n",
       "15    1088\n",
       "21    1082\n",
       "12    1055\n",
       "7     1013\n",
       "1     1010\n",
       "4      957\n",
       "Name: label, dtype: int64"
      ]
     },
     "execution_count": 7,
     "metadata": {},
     "output_type": "execute_result"
    },
    {
     "data": {
      "image/png": "[encoded data removed]",
      "text/plain": [
       "<Figure size 1080x504 with 1 Axes>"
      ]
     },
     "metadata": {
      "needs_background": "light"
     },
     "output_type": "display_data"
    }
   ],
   "source": [
    "plt.figure(figsize=(15,7))\n",
    "g = sns.countplot(Y_train, palette=\"icefire\")\n",
    "plt.title(\"Number of digit classes\")\n",
    "Y_train.value_counts()"
   ]
  },
  {
   "cell_type": "code",
   "execution_count": 8,
   "metadata": {},
   "outputs": [
    {
     "data": {
      "image/png": "[encoded data removed]",
      "text/plain": [
       "<Figure size 576x576 with 8 Axes>"
      ]
     },
     "metadata": {
      "needs_background": "light"
     },
     "output_type": "display_data"
    }
   ],
   "source": [
    "f, ax = plt.subplots(2,4)\n",
    "f.set_size_inches(8,8)\n",
    "\n",
    "k = 0\n",
    "for i in range(2):\n",
    "    for j in range(4):\n",
    "        img = X_train.iloc[k].to_numpy()\n",
    "        img = img.reshape((28,28))\n",
    "        ax[i,j].set_xlabel(chr(Y_train[k] + 65))\n",
    "        ax[i,j].imshow(img,cmap='gray')\n",
    "        k += 1\n",
    "    plt.tight_layout()"
   ]
  },
  {
   "cell_type": "markdown",
   "execution_count": null,
   "metadata": {},
   "source": [
    "# Normalization, Reshape and Label Encoding <a id=\"7\"></a>\n",
    "* **Normalization**\n",
    "    * We perform a grayscale normalization to reduce the effect of illumination's differences.\n",
    "    * If we perform normalization, CNN works faster.\n",
    "* **Reshape**\n",
    "    * Train and test images (28 x 28)\n",
    "    * We reshape all data to 28x28x1 3D matrices.\n",
    "    * Keras needs an extra dimension in the end which correspond to channels. Our images are gray scaled so it use only one channel.\n",
    "* **Label Encoding**\n",
    "    * Encode labels to one hot vectors\n",
    "        * 2 => [0,0,1,0,0,0,0,0,0,0]\n",
    "        * 4 => [0,0,0,0,1,0,0,0,0,0]\n"
   ]
  },
  {
   "cell_type": "code",
   "execution_count": 9,
   "metadata": {},
   "outputs": [
    {
     "name": "stdout",
     "output_type": "stream",
     "text": [
      "X_train shape:  (27455, 784)\n",
      "X_test shape:  (7172, 784)\n"
     ]
    }
   ],
   "source": [
    "# normalize the data\n",
    "X_train = X_train/255.0\n",
    "X_test = X_test/255.0\n",
    "print(\"X_train shape: \",X_train.shape)\n",
    "print(\"X_test shape: \",X_test.shape)"
   ]
  },
  {
   "cell_type": "code",
   "execution_count": 10,
   "metadata": {},
   "outputs": [
    {
     "name": "stdout",
     "output_type": "stream",
     "text": [
      "X_train shape:  (27455, 28, 28, 1)\n",
      "X_test shape:  (7172, 28, 28, 1)\n"
     ]
    }
   ],
   "source": [
    "# reshape\n",
    "X_train = X_train.values.reshape(-1,28,28,1)\n",
    "X_test = X_test.values.reshape(-1,28,28,1)\n",
    "print(\"X_train shape: \",X_train.shape)\n",
    "print(\"X_test shape: \",X_test.shape)"
   ]
  },
  {
   "cell_type": "code",
   "execution_count": 11,
   "metadata": {},
   "outputs": [],
   "source": [
    "# label encoding\n",
    "from sklearn.preprocessing import LabelBinarizer\n",
    "label_binrizer = LabelBinarizer()\n",
    "Y_train = label_binrizer.fit_transform(Y_train)"
   ]
  },
  {
   "cell_type": "markdown",
   "execution_count": null,
   "metadata": {},
   "source": [
    "# Train Test Split <a id=\"8\"></a>\n",
    "* We split the data into train and test sets.\n",
    "* test size is 15%\n",
    "* train size is 85%"
   ]
  },
  {
   "cell_type": "code",
   "execution_count": 12,
   "metadata": {},
   "outputs": [
    {
     "name": "stdout",
     "output_type": "stream",
     "text": [
      "x_train shape (23336, 28, 28, 1)\n",
      "x_test shape (4119, 28, 28, 1)\n",
      "y_train shape (23336, 24)\n",
      "y_test shape (4119, 24)\n"
     ]
    }
   ],
   "source": [
    "from sklearn.model_selection import train_test_split\n",
    "X_train, X_val, Y_train, Y_val = train_test_split(X_train, Y_train, test_size=0.15, random_state=42)\n",
    "\n",
    "print(\"x_train shape\",X_train.shape)\n",
    "print(\"x_test shape\",X_val.shape)\n",
    "print(\"y_train shape\",Y_train.shape)\n",
    "print(\"y_test shape\",Y_val.shape)"
   ]
  },
  {
   "cell_type": "code",
   "execution_count": 13,
   "metadata": {},
   "outputs": [
    {
     "data": {
      "image/png": "[encoded data removed]",
      "text/plain": [
       "<Figure size 432x288 with 1 Axes>"
      ]
     },
     "metadata": {
      "needs_background": "light"
     },
     "output_type": "display_data"
    }
   ],
   "source": [
    "plt.imshow(X_train[10][:,:,0],cmap=\"gray\")\n",
    "plt.show()"
   ]
  },
  {
   "cell_type": "code",
   "execution_count": 14,
   "metadata": {},
   "outputs": [
    {
     "name": "stderr",
     "output_type": "stream",
     "text": [
      "Using TensorFlow backend.\n"
     ]
    },
    {
     "name": "stdout",
     "output_type": "stream",
     "text": [
      "Model: \"sequential_1\"\n",
      "_________________________________________________________________\n",
      "Layer (type)                 Output Shape              Param #   \n",
      "=================================================================\n",
      "conv2d_1 (Conv2D)            (None, 28, 28, 75)        750       \n",
      "_________________________________________________________________\n",
      "max_pooling2d_1 (MaxPooling2 (None, 14, 14, 75)        0         \n",
      "_________________________________________________________________\n",
      "conv2d_2 (Conv2D)            (None, 14, 14, 50)        33800     \n",
      "_________________________________________________________________\n",
      "max_pooling2d_2 (MaxPooling2 (None, 7, 7, 50)          0         \n",
      "_________________________________________________________________\n",
      "conv2d_3 (Conv2D)            (None, 7, 7, 25)          11275     \n",
      "_________________________________________________________________\n",
      "max_pooling2d_3 (MaxPooling2 (None, 4, 4, 25)          0         \n",
      "_________________________________________________________________\n",
      "flatten_1 (Flatten)          (None, 400)               0         \n",
      "_________________________________________________________________\n",
      "dense_1 (Dense)              (None, 512)               205312    \n",
      "_________________________________________________________________\n",
      "dropout_1 (Dropout)          (None, 512)               0         \n",
      "_________________________________________________________________\n",
      "dense_2 (Dense)              (None, 24)                12312     \n",
      "=================================================================\n",
      "Total params: 263,449\n",
      "Trainable params: 263,449\n",
      "Non-trainable params: 0\n",
      "_________________________________________________________________\n"
     ]
    }
   ],
   "source": [
    "from sklearn.metrics import confusion_matrix\n",
    "import itertools\n",
    "\n",
    "from keras.utils.np_utils import to_categorical # convert to one-hot-encoding\n",
    "from keras.models import Sequential\n",
    "from keras.layers import Dense, Dropout, Flatten, Conv2D, MaxPool2D\n",
    "from keras.optimizers import RMSprop,Adam\n",
    "from keras.preprocessing.image import ImageDataGenerator\n",
    "from keras.callbacks import ReduceLROnPlateau\n",
    "\n",
    "model = Sequential()\n",
    "\n",
    "model.add(Conv2D(filters=75 , kernel_size=(3,3) , strides = 1 , padding = 'same' , activation = 'relu' , input_shape = (28,28,1)))\n",
    "model.add(MaxPool2D(pool_size=(2,2), strides = 2 , padding = 'same'))\n",
    "\n",
    "model.add(Conv2D(filters=50, kernel_size=(3,3) , strides = 1 , padding = 'same' , activation = 'relu'))\n",
    "model.add(MaxPool2D(pool_size=(2,2), strides = 2 , padding = 'same'))\n",
    "\n",
    "model.add(Conv2D(filters=25, kernel_size=(3,3) , strides = 1 , padding = 'same' , activation = 'relu'))\n",
    "model.add(MaxPool2D(pool_size=(2,2) , strides = 2 , padding = 'same'))\n",
    "\n",
    "model.add(Flatten())\n",
    "\n",
    "model.add(Dense(units = 512 , activation = 'relu'))\n",
    "model.add(Dropout(0.2))\n",
    "\n",
    "model.add(Dense(units = 24 , activation = 'softmax'))\n",
    "model.compile(optimizer = 'adam' , loss = 'categorical_crossentropy' , metrics = ['accuracy'])\n",
    "model.summary()"
   ]
  },
  {
   "cell_type": "code",
   "execution_count": 15,
   "metadata": {},
   "outputs": [],
   "source": [
    "optimizer = Adam(lr=0.003, beta_1=0.9, beta_2=0.999)"
   ]
  },
  {
   "cell_type": "code",
   "execution_count": 16,
   "metadata": {},
   "outputs": [],
   "source": [
    "model.compile(optimizer = optimizer , loss = \"categorical_crossentropy\", metrics=[\"accuracy\"])"
   ]
  },
  {
   "cell_type": "code",
   "execution_count": 17,
   "metadata": {},
   "outputs": [],
   "source": [
    "epochs = 25  # for better result increase the epochs\n",
    "batch_size = 200"
   ]
  },
  {
   "cell_type": "code",
   "execution_count": 18,
   "metadata": {},
   "outputs": [],
   "source": [
    "# data augmentation\n",
    "datagen = ImageDataGenerator(\n",
    "        featurewise_center=False,  # set input mean to 0 over the dataset\n",
    "        samplewise_center=False,  # set each sample mean to 0\n",
    "        featurewise_std_normalization=False,  # divide inputs by std of the dataset\n",
    "        samplewise_std_normalization=False,  # divide each input by its std\n",
    "        zca_whitening=False,  # dimesion reduction\n",
    "        rotation_range=15,  # randomly rotate images in the range 15 degrees\n",
    "        zoom_range = 0.5, # Randomly zoom image 5%\n",
    "        width_shift_range=0.15,  # randomly shift images horizontally 15%\n",
    "        height_shift_range=0.15,  # randomly shift images vertically 15%\n",
    "        horizontal_flip=True,  # randomly flip images\n",
    "        vertical_flip=False)  # randomly flip images\n",
    "\n",
    "datagen.fit(X_train)"
   ]
  },
  {
   "cell_type": "code",
   "execution_count": 19,
   "metadata": {},
   "outputs": [
    {
     "name": "stdout",
     "output_type": "stream",
     "text": [
      "Epoch 1/25\n",
      "116/116 [==============================] - 32s 274ms/step - loss: 2.9604 - accuracy: 0.1060 - val_loss: 2.3016 - val_accuracy: 0.2828\n",
      "Epoch 2/25\n",
      "116/116 [==============================] - 30s 256ms/step - loss: 2.3594 - accuracy: 0.2614 - val_loss: 1.5995 - val_accuracy: 0.4843\n",
      "Epoch 3/25\n",
      "116/116 [==============================] - 30s 262ms/step - loss: 1.9438 - accuracy: 0.3802 - val_loss: 1.0030 - val_accuracy: 0.7087\n",
      "Epoch 4/25\n",
      "116/116 [==============================] - 30s 256ms/step - loss: 1.6161 - accuracy: 0.4711 - val_loss: 0.8070 - val_accuracy: 0.7317\n",
      "Epoch 5/25\n",
      "116/116 [==============================] - 30s 262ms/step - loss: 1.4395 - accuracy: 0.5275 - val_loss: 0.5983 - val_accuracy: 0.8194\n",
      "Epoch 6/25\n",
      "116/116 [==============================] - 30s 255ms/step - loss: 1.2851 - accuracy: 0.5705 - val_loss: 0.5598 - val_accuracy: 0.8271\n",
      "Epoch 7/25\n",
      "116/116 [==============================] - 30s 261ms/step - loss: 1.1666 - accuracy: 0.6113 - val_loss: 0.4178 - val_accuracy: 0.8653\n",
      "Epoch 8/25\n",
      "116/116 [==============================] - 30s 255ms/step - loss: 1.0540 - accuracy: 0.6453 - val_loss: 0.4609 - val_accuracy: 0.8466\n",
      "Epoch 9/25\n",
      "116/116 [==============================] - 30s 261ms/step - loss: 0.9675 - accuracy: 0.6765 - val_loss: 0.3415 - val_accuracy: 0.8988\n",
      "Epoch 10/25\n",
      "116/116 [==============================] - 30s 257ms/step - loss: 0.9168 - accuracy: 0.6930 - val_loss: 0.2779 - val_accuracy: 0.9175\n",
      "Epoch 11/25\n",
      "116/116 [==============================] - 30s 262ms/step - loss: 0.8451 - accuracy: 0.7201 - val_loss: 0.2590 - val_accuracy: 0.9257\n",
      "Epoch 12/25\n",
      "116/116 [==============================] - 30s 260ms/step - loss: 0.8109 - accuracy: 0.7315 - val_loss: 0.2280 - val_accuracy: 0.9359\n",
      "Epoch 13/25\n",
      "116/116 [==============================] - 31s 265ms/step - loss: 0.7659 - accuracy: 0.7409 - val_loss: 0.1976 - val_accuracy: 0.9427\n",
      "Epoch 14/25\n",
      "116/116 [==============================] - 30s 259ms/step - loss: 0.7417 - accuracy: 0.7463 - val_loss: 0.2116 - val_accuracy: 0.9359\n",
      "Epoch 15/25\n",
      "116/116 [==============================] - 31s 264ms/step - loss: 0.6942 - accuracy: 0.7653 - val_loss: 0.1401 - val_accuracy: 0.9595\n",
      "Epoch 16/25\n",
      "116/116 [==============================] - 30s 258ms/step - loss: 0.6771 - accuracy: 0.7713 - val_loss: 0.1810 - val_accuracy: 0.9383\n",
      "Epoch 17/25\n",
      "116/116 [==============================] - 31s 266ms/step - loss: 0.6590 - accuracy: 0.7812 - val_loss: 0.1412 - val_accuracy: 0.9490\n",
      "Epoch 18/25\n",
      "116/116 [==============================] - 30s 260ms/step - loss: 0.6136 - accuracy: 0.7921 - val_loss: 0.1730 - val_accuracy: 0.9422\n",
      "Epoch 19/25\n",
      "116/116 [==============================] - 31s 265ms/step - loss: 0.6033 - accuracy: 0.7968 - val_loss: 0.1446 - val_accuracy: 0.9619\n",
      "Epoch 20/25\n",
      "116/116 [==============================] - 30s 259ms/step - loss: 0.5828 - accuracy: 0.8037 - val_loss: 0.1468 - val_accuracy: 0.9529\n",
      "Epoch 21/25\n",
      "116/116 [==============================] - 31s 264ms/step - loss: 0.5679 - accuracy: 0.8108 - val_loss: 0.0868 - val_accuracy: 0.9721\n",
      "Epoch 22/25\n",
      "116/116 [==============================] - 30s 261ms/step - loss: 0.5475 - accuracy: 0.8145 - val_loss: 0.0903 - val_accuracy: 0.9733\n",
      "Epoch 23/25\n",
      "116/116 [==============================] - 31s 266ms/step - loss: 0.5517 - accuracy: 0.8158 - val_loss: 0.1171 - val_accuracy: 0.9677\n",
      "Epoch 24/25\n",
      "116/116 [==============================] - 30s 257ms/step - loss: 0.5380 - accuracy: 0.8188 - val_loss: 0.1054 - val_accuracy: 0.9689\n",
      "Epoch 25/25\n",
      "116/116 [==============================] - 32s 279ms/step - loss: 0.5148 - accuracy: 0.8271 - val_loss: 0.0985 - val_accuracy: 0.9716\n"
     ]
    }
   ],
   "source": [
    "history = model.fit_generator(datagen.flow(X_train,Y_train, batch_size=batch_size),epochs = epochs, validation_data = (X_val,Y_val), steps_per_epoch=X_train.shape[0] // batch_size)"
   ]
  },
  {
   "cell_type": "markdown",
   "execution_count": null,
   "metadata": {},
   "source": [
    "### fit() & fit_genarator()\n",
    "* In keras, fit() is much similar to sklearn's fit method, where you pass array of features as x values and target as y values. You pass your whole dataset at once in fit method. Also, use it if you can load whole data into your memory (small dataset).\n",
    "* In fit_generator(), you don't pass the x and y directly, instead they come from a generator. As it is written in keras documentation, generator is used when you want to avoid duplicate data when using multiprocessing. This is for practical purpose, when you have large dataset.\n",
    "\n",
    "### Dropout\n",
    "* It prevents over learning.\n",
    "* It increases diversity.\n",
    "\n",
    "### Epoch & Batch & Number of Iteration\n",
    "* **one epoch: ** one forward pass and one backward pass of all the training examples\n",
    "* **batch size:** the number of training examples in one forward/backward pass. The higher the batch size, the more memory space you'll need.\n",
    "* **number of iterations:** number of passes, each pass using [batch size] number of examples. To be clear, one pass = one forward pass + one backward pass (we do not count the forward pass and backward pass as two different passes).\n",
    "\n",
    "Example: if you have 1000 training examples, and your batch size is 500, then it will take 2 iterations to complete 1 epoch."
   ]
  },
  {
   "cell_type": "code",
   "execution_count": 20,
   "metadata": {},
   "outputs": [
    {
     "data": {
      "image/png": "[encoded data removed]",
      "text/plain": [
       "<Figure size 864x288 with 2 Axes>"
      ]
     },
     "metadata": {
      "needs_background": "light"
     },
     "output_type": "display_data"
    }
   ],
   "source": [
    "fig , ax = plt.subplots(1,2)\n",
    "train_acc = history.history['accuracy']\n",
    "train_loss = history.history['loss']\n",
    "fig.set_size_inches(12,4)\n",
    "\n",
    "ax[0].plot(history.history['accuracy'])\n",
    "ax[0].plot(history.history['val_accuracy'])\n",
    "ax[0].set_title('Training Accuracy vs Validation Accuracy')\n",
    "ax[0].set_ylabel('Accuracy')\n",
    "ax[0].set_xlabel('Epoch')\n",
    "ax[0].legend(['Train', 'Validation'], loc='upper left')\n",
    "\n",
    "ax[1].plot(history.history['loss'])\n",
    "ax[1].plot(history.history['val_loss'])\n",
    "ax[1].set_title('Training Loss vs Validation Loss')\n",
    "ax[1].set_ylabel('Loss')\n",
    "ax[1].set_xlabel('Epoch')\n",
    "ax[1].legend(['Train', 'Validation'], loc='upper left')\n",
    "\n",
    "plt.show()"
   ]
  },
  {
   "cell_type": "code",
   "execution_count": 21,
   "metadata": {},
   "outputs": [
    {
     "data": {
      "image/png": "[encoded data removed]",
      "text/plain": [
       "<Figure size 1152x864 with 2 Axes>"
      ]
     },
     "metadata": {
      "needs_background": "light"
     },
     "output_type": "display_data"
    }
   ],
   "source": [
    "import seaborn as sns\n",
    "# Predict the values from the validation dataset\n",
    "Y_pred = model.predict(X_val)\n",
    "# Convert predictions classes to one hot vectors \n",
    "Y_pred_classes = np.argmax(Y_pred,axis = 1) \n",
    "# Convert validation observations to one hot vectors\n",
    "Y_true = np.argmax(Y_val,axis = 1) \n",
    "# compute the confusion matrix\n",
    "confusion_mtx = confusion_matrix(Y_true, Y_pred_classes) \n",
    "# plot the confusion matrix\n",
    "f,ax = plt.subplots(figsize=(16, 12))\n",
    "sns.heatmap(confusion_mtx, annot=True, linewidths=0.01,cmap=sns.cubehelix_palette(8),fmt= '.1f',ax=ax)\n",
    "plt.xlabel(\"Predicted Label\")\n",
    "plt.ylabel(\"True Label\")\n",
    "plt.title(\"Confusion Matrix\")\n",
    "plt.show()"
   ]
  }
 ],
 "metadata": {
  "kernelspec": {
   "display_name": "Python 3",
   "language": "python",
   "name": "python3"
  },
  "language_info": {
   "codemirror_mode": {
    "name": "ipython",
    "version": 3
   },
   "file_extension": ".py",
   "mimetype": "text/x-python",
   "name": "python",
   "nbconvert_exporter": "python",
   "pygments_lexer": "ipython3",
   "version": "3.7.6"
  }
 },
 "nbformat": 4,
 "nbformat_minor": 4
}
