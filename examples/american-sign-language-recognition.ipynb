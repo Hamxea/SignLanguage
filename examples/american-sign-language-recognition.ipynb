{
 "cells": [
  {
   "cell_type": "code",
   "execution_count": 1,
   "id": "1a7d5e5f",
   "metadata": {
    "_cell_guid": "b1076dfc-b9ad-4769-8c92-a6c4dae69d19",
    "_uuid": "8f2839f25d086af736a60e9eeb907d3b93b6e0e5",
    "execution": {
     "iopub.execute_input": "2023-06-21T09:53:39.216684Z",
     "iopub.status.busy": "2023-06-21T09:53:39.215748Z",
     "iopub.status.idle": "2023-06-21T09:53:39.261526Z",
     "shell.execute_reply": "2023-06-21T09:53:39.260319Z"
    },
    "papermill": {
     "duration": 0.065904,
     "end_time": "2023-06-21T09:53:39.264806",
     "exception": false,
     "start_time": "2023-06-21T09:53:39.198902",
     "status": "completed"
    },
    "tags": []
   },
   "outputs": [
    {
     "name": "stdout",
     "output_type": "stream",
     "text": [
      "/dataset/input/asl-fingerspelling/supplemental_metadata.csv\n",
      "/dataset/input/asl-fingerspelling/character_to_prediction_index.json\n",
      "/dataset/input/asl-fingerspelling/train.csv\n",
      "/dataset/input/asl-fingerspelling/supplemental_landmarks/371169664.parquet\n",
      "/dataset/input/asl-fingerspelling/supplemental_landmarks/369584223.parquet\n",
      "/dataset/input/asl-fingerspelling/supplemental_landmarks/1682915129.parquet\n",
      "/dataset/input/asl-fingerspelling/supplemental_landmarks/775880548.parquet\n",
      "/dataset/input/asl-fingerspelling/supplemental_landmarks/2100073719.parquet\n",
      "/dataset/input/asl-fingerspelling/supplemental_landmarks/1650637630.parquet\n",
      "/dataset/input/asl-fingerspelling/supplemental_landmarks/1471096258.parquet\n",
      "/dataset/input/asl-fingerspelling/supplemental_landmarks/86446671.parquet\n",
      "/dataset/input/asl-fingerspelling/supplemental_landmarks/897287709.parquet\n",
      "/dataset/input/asl-fingerspelling/supplemental_landmarks/333606065.parquet\n",
      "/dataset/input/asl-fingerspelling/supplemental_landmarks/2057261717.parquet\n",
      "/dataset/input/asl-fingerspelling/supplemental_landmarks/971104021.parquet\n",
      "/dataset/input/asl-fingerspelling/supplemental_landmarks/471766624.parquet\n",
      "/dataset/input/asl-fingerspelling/supplemental_landmarks/1881515495.parquet\n",
      "/dataset/input/asl-fingerspelling/supplemental_landmarks/1857374937.parquet\n",
      "/dataset/input/asl-fingerspelling/supplemental_landmarks/293101677.parquet\n",
      "/dataset/input/asl-fingerspelling/supplemental_landmarks/595441814.parquet\n",
      "/dataset/input/asl-fingerspelling/supplemental_landmarks/1279694894.parquet\n",
      "/dataset/input/asl-fingerspelling/supplemental_landmarks/756566775.parquet\n",
      "/dataset/input/asl-fingerspelling/supplemental_landmarks/1471341722.parquet\n",
      "/dataset/input/asl-fingerspelling/supplemental_landmarks/1112747136.parquet\n",
      "/dataset/input/asl-fingerspelling/supplemental_landmarks/1756773911.parquet\n",
      "/dataset/input/asl-fingerspelling/supplemental_landmarks/33432165.parquet\n",
      "/dataset/input/asl-fingerspelling/supplemental_landmarks/1779786322.parquet\n",
      "/dataset/input/asl-fingerspelling/supplemental_landmarks/1755047076.parquet\n",
      "/dataset/input/asl-fingerspelling/supplemental_landmarks/1624527344.parquet\n",
      "/dataset/input/asl-fingerspelling/supplemental_landmarks/597469033.parquet\n",
      "/dataset/input/asl-fingerspelling/supplemental_landmarks/1505488209.parquet\n",
      "/dataset/input/asl-fingerspelling/supplemental_landmarks/1144115867.parquet\n",
      "/dataset/input/asl-fingerspelling/supplemental_landmarks/1249944812.parquet\n",
      "/dataset/input/asl-fingerspelling/supplemental_landmarks/1118603411.parquet\n",
      "/dataset/input/asl-fingerspelling/supplemental_landmarks/676340265.parquet\n",
      "/dataset/input/asl-fingerspelling/supplemental_landmarks/716508881.parquet\n",
      "/dataset/input/asl-fingerspelling/supplemental_landmarks/736978972.parquet\n",
      "/dataset/input/asl-fingerspelling/supplemental_landmarks/1579345709.parquet\n",
      "/dataset/input/asl-fingerspelling/supplemental_landmarks/285528514.parquet\n",
      "/dataset/input/asl-fingerspelling/supplemental_landmarks/1047404576.parquet\n",
      "/dataset/input/asl-fingerspelling/supplemental_landmarks/697480828.parquet\n",
      "/dataset/input/asl-fingerspelling/supplemental_landmarks/1032110484.parquet\n",
      "/dataset/input/asl-fingerspelling/supplemental_landmarks/440362090.parquet\n",
      "/dataset/input/asl-fingerspelling/supplemental_landmarks/924144755.parquet\n",
      "/dataset/input/asl-fingerspelling/supplemental_landmarks/639454452.parquet\n",
      "/dataset/input/asl-fingerspelling/supplemental_landmarks/236903981.parquet\n",
      "/dataset/input/asl-fingerspelling/supplemental_landmarks/636900267.parquet\n",
      "/dataset/input/asl-fingerspelling/supplemental_landmarks/1176508147.parquet\n",
      "/dataset/input/asl-fingerspelling/supplemental_landmarks/131312512.parquet\n",
      "/dataset/input/asl-fingerspelling/supplemental_landmarks/778903889.parquet\n",
      "/dataset/input/asl-fingerspelling/supplemental_landmarks/193950599.parquet\n",
      "/dataset/input/asl-fingerspelling/supplemental_landmarks/442061898.parquet\n",
      "/dataset/input/asl-fingerspelling/supplemental_landmarks/95345213.parquet\n",
      "/dataset/input/asl-fingerspelling/supplemental_landmarks/1407656790.parquet\n",
      "/dataset/input/asl-fingerspelling/supplemental_landmarks/680303484.parquet\n",
      "/dataset/input/asl-fingerspelling/supplemental_landmarks/1727438550.parquet\n",
      "/dataset/input/asl-fingerspelling/train_landmarks/1358493307.parquet\n",
      "/dataset/input/asl-fingerspelling/train_landmarks/495378749.parquet\n",
      "/dataset/input/asl-fingerspelling/train_landmarks/2118949241.parquet\n",
      "/dataset/input/asl-fingerspelling/train_landmarks/5414471.parquet\n",
      "/dataset/input/asl-fingerspelling/train_landmarks/1133664520.parquet\n",
      "/dataset/input/asl-fingerspelling/train_landmarks/433948159.parquet\n",
      "/dataset/input/asl-fingerspelling/train_landmarks/1920330615.parquet\n",
      "/dataset/input/asl-fingerspelling/train_landmarks/683666742.parquet\n",
      "/dataset/input/asl-fingerspelling/train_landmarks/1365772051.parquet\n",
      "/dataset/input/asl-fingerspelling/train_landmarks/939623093.parquet\n",
      "/dataset/input/asl-fingerspelling/train_landmarks/1405046009.parquet\n",
      "/dataset/input/asl-fingerspelling/train_landmarks/450474571.parquet\n",
      "/dataset/input/asl-fingerspelling/train_landmarks/149822653.parquet\n",
      "/dataset/input/asl-fingerspelling/train_landmarks/152029243.parquet\n",
      "/dataset/input/asl-fingerspelling/train_landmarks/1552432300.parquet\n",
      "/dataset/input/asl-fingerspelling/train_landmarks/1365275733.parquet\n",
      "/dataset/input/asl-fingerspelling/train_landmarks/1880177496.parquet\n",
      "/dataset/input/asl-fingerspelling/train_landmarks/1021040628.parquet\n",
      "/dataset/input/asl-fingerspelling/train_landmarks/1557244878.parquet\n",
      "/dataset/input/asl-fingerspelling/train_landmarks/1497621680.parquet\n",
      "/dataset/input/asl-fingerspelling/train_landmarks/522550314.parquet\n",
      "/dataset/input/asl-fingerspelling/train_landmarks/649779897.parquet\n",
      "/dataset/input/asl-fingerspelling/train_landmarks/1905462118.parquet\n",
      "/dataset/input/asl-fingerspelling/train_landmarks/175396851.parquet\n",
      "/dataset/input/asl-fingerspelling/train_landmarks/638508439.parquet\n",
      "/dataset/input/asl-fingerspelling/train_landmarks/532011803.parquet\n",
      "/dataset/input/asl-fingerspelling/train_landmarks/2072296290.parquet\n",
      "/dataset/input/asl-fingerspelling/train_landmarks/1906357076.parquet\n",
      "/dataset/input/asl-fingerspelling/train_landmarks/2026717426.parquet\n",
      "/dataset/input/asl-fingerspelling/train_landmarks/1967755728.parquet\n",
      "/dataset/input/asl-fingerspelling/train_landmarks/1785039512.parquet\n",
      "/dataset/input/asl-fingerspelling/train_landmarks/1643479812.parquet\n",
      "/dataset/input/asl-fingerspelling/train_landmarks/1134756332.parquet\n",
      "/dataset/input/asl-fingerspelling/train_landmarks/1019715464.parquet\n",
      "/dataset/input/asl-fingerspelling/train_landmarks/566963657.parquet\n",
      "/dataset/input/asl-fingerspelling/train_landmarks/568753759.parquet\n",
      "/dataset/input/asl-fingerspelling/train_landmarks/1726141437.parquet\n",
      "/dataset/input/asl-fingerspelling/train_landmarks/296317215.parquet\n",
      "/dataset/input/asl-fingerspelling/train_landmarks/234418913.parquet\n",
      "/dataset/input/asl-fingerspelling/train_landmarks/614661748.parquet\n",
      "/dataset/input/asl-fingerspelling/train_landmarks/654436541.parquet\n",
      "/dataset/input/asl-fingerspelling/train_landmarks/474255203.parquet\n",
      "/dataset/input/asl-fingerspelling/train_landmarks/1662742697.parquet\n",
      "/dataset/input/asl-fingerspelling/train_landmarks/1099408314.parquet\n",
      "/dataset/input/asl-fingerspelling/train_landmarks/1341528257.parquet\n",
      "/dataset/input/asl-fingerspelling/train_landmarks/105143404.parquet\n",
      "/dataset/input/asl-fingerspelling/train_landmarks/527708222.parquet\n",
      "/dataset/input/asl-fingerspelling/train_landmarks/882979387.parquet\n",
      "/dataset/input/asl-fingerspelling/train_landmarks/933868835.parquet\n",
      "/dataset/input/asl-fingerspelling/train_landmarks/1969985709.parquet\n",
      "/dataset/input/asl-fingerspelling/train_landmarks/425182931.parquet\n",
      "/dataset/input/asl-fingerspelling/train_landmarks/1098899348.parquet\n",
      "/dataset/input/asl-fingerspelling/train_landmarks/1255240050.parquet\n",
      "/dataset/input/asl-fingerspelling/train_landmarks/1997878546.parquet\n",
      "/dataset/input/asl-fingerspelling/train_landmarks/128822441.parquet\n",
      "/dataset/input/asl-fingerspelling/train_landmarks/388576474.parquet\n",
      "/dataset/input/asl-fingerspelling/train_landmarks/546816846.parquet\n",
      "/dataset/input/asl-fingerspelling/train_landmarks/1320204318.parquet\n",
      "/dataset/input/asl-fingerspelling/train_landmarks/1448136004.parquet\n",
      "/dataset/input/asl-fingerspelling/train_landmarks/349393104.parquet\n",
      "/dataset/input/asl-fingerspelling/train_landmarks/2072876091.parquet\n",
      "/dataset/input/asl-fingerspelling/train_landmarks/871280215.parquet\n",
      "/dataset/input/asl-fingerspelling/train_landmarks/1562234637.parquet\n",
      "/dataset/input/asl-fingerspelling/train_landmarks/1865557033.parquet\n",
      "/dataset/input/asl-fingerspelling/train_landmarks/1664666588.parquet\n",
      "/dataset/input/asl-fingerspelling/train_landmarks/1647220008.parquet\n",
      "/dataset/input/asl-fingerspelling/train_landmarks/2036580525.parquet\n",
      "/dataset/input/asl-fingerspelling/train_landmarks/169560558.parquet\n"
     ]
    }
   ],
   "source": [
    "# This Python 3 environment comes with many helpful analytics libraries installed\n",
    "# It is defined by the dataset/python Docker image: https://github.com/dataset/docker-python\n",
    "# For example, here's several helpful packages to load\n",
    "\n",
    "import numpy as np # linear algebra\n",
    "import pandas as pd # data processing, CSV file I/O (e.g. pd.read_csv)\n",
    "\n",
    "# Input data files are available in the read-only \"../input/\" directory\n",
    "# For example, running this (by clicking run or pressing Shift+Enter) will list all files under the input directory\n",
    "\n",
    "import os\n",
    "for dirname, _, filenames in os.walk('/dataset/input'):\n",
    "    for filename in filenames:\n",
    "        print(os.path.join(dirname, filename))\n",
    "\n",
    "# You can write up to 20GB to the current directory (/dataset/working/) that gets preserved as output when you create a version using \"Save & Run All\" \n",
    "# You can also write temporary files to /dataset/temp/, but they won't be saved outside of the current session"
   ]
  },
  {
   "cell_type": "markdown",
   "id": "8b77ea01",
   "metadata": {
    "papermill": {
     "duration": 0.014228,
     "end_time": "2023-06-21T09:53:39.294246",
     "exception": false,
     "start_time": "2023-06-21T09:53:39.280018",
     "status": "completed"
    },
    "tags": []
   },
   "source": [
    "# Sign Language Recognition Challenge\n",
    "\n",
    "The goal of this competition is to classify American Sign Language (ASL) signs.\n",
    "\n",
    "The landmarks were extracted from raw videos with the MediaPipe holistic model and are asked to predict the sign from this data."
   ]
  },
  {
   "cell_type": "markdown",
   "id": "498f364e",
   "metadata": {
    "papermill": {
     "duration": 0.014196,
     "end_time": "2023-06-21T09:53:39.323043",
     "exception": false,
     "start_time": "2023-06-21T09:53:39.308847",
     "status": "completed"
    },
    "tags": []
   },
   "source": [
    "# 1. DATA OVERVIEW \n",
    "\n",
    "In this notebook, we will be exploring and analyzing the dataset. We will start by importing important libraries, loading the data, and giving a brief description of the dataset."
   ]
  },
  {
   "cell_type": "markdown",
   "id": "715491a0",
   "metadata": {
    "papermill": {
     "duration": 0.014244,
     "end_time": "2023-06-21T09:53:39.351717",
     "exception": false,
     "start_time": "2023-06-21T09:53:39.337473",
     "status": "completed"
    },
    "tags": []
   },
   "source": [
    "**1.1 Import Libraries** "
   ]
  },
  {
   "cell_type": "code",
   "execution_count": 2,
   "id": "4dc7edba",
   "metadata": {
    "execution": {
     "iopub.execute_input": "2023-06-21T09:53:39.382382Z",
     "iopub.status.busy": "2023-06-21T09:53:39.382001Z",
     "iopub.status.idle": "2023-06-21T09:53:44.851988Z",
     "shell.execute_reply": "2023-06-21T09:53:44.850715Z"
    },
    "papermill": {
     "duration": 5.488928,
     "end_time": "2023-06-21T09:53:44.855083",
     "exception": false,
     "start_time": "2023-06-21T09:53:39.366155",
     "status": "completed"
    },
    "tags": []
   },
   "outputs": [],
   "source": [
    "import gc\n",
    "\n",
    "import json\n",
    "from tqdm import tqdm\n",
    "\n",
    "import torch\n",
    "import torch.nn as nn\n",
    "\n",
    "from torch.utils.data import Dataset, DataLoader\n",
    "from torchvision import transforms\n",
    "\n",
    "from sklearn.model_selection import train_test_split\n",
    "from sklearn.metrics import accuracy_score\n",
    "\n",
    "import warnings\n",
    "warnings.filterwarnings(action='ignore')"
   ]
  },
  {
   "cell_type": "code",
   "execution_count": 3,
   "id": "6fc50c32",
   "metadata": {
    "execution": {
     "iopub.execute_input": "2023-06-21T09:53:44.887972Z",
     "iopub.status.busy": "2023-06-21T09:53:44.886946Z",
     "iopub.status.idle": "2023-06-21T09:53:56.492169Z",
     "shell.execute_reply": "2023-06-21T09:53:56.490759Z"
    },
    "papermill": {
     "duration": 11.625075,
     "end_time": "2023-06-21T09:53:56.495223",
     "exception": false,
     "start_time": "2023-06-21T09:53:44.870148",
     "status": "completed"
    },
    "tags": []
   },
   "outputs": [
    {
     "name": "stdout",
     "output_type": "stream",
     "text": [
      "Packages imported...\n"
     ]
    }
   ],
   "source": [
    "# import data processing and visualisation libraries\n",
    "import numpy as np\n",
    "import pandas as pd\n",
    "import seaborn as sns\n",
    "import matplotlib.pyplot as plt\n",
    "%matplotlib inline\n",
    "import plotly.io as pio\n",
    "pio.templates.default = \"simple_white\"\n",
    "\n",
    "# import tensorflow and keras\n",
    "import tensorflow as tf\n",
    "import os\n",
    "\n",
    "print(\"Packages imported...\")"
   ]
  },
  {
   "cell_type": "markdown",
   "id": "21a2a321",
   "metadata": {
    "papermill": {
     "duration": 0.014848,
     "end_time": "2023-06-21T09:53:56.525015",
     "exception": false,
     "start_time": "2023-06-21T09:53:56.510167",
     "status": "completed"
    },
    "tags": []
   },
   "source": [
    "All the important packages have been loaded. Now, we'll load the training and supplemental_metadata dataframe."
   ]
  },
  {
   "cell_type": "markdown",
   "id": "7e089ddc",
   "metadata": {
    "papermill": {
     "duration": 0.014684,
     "end_time": "2023-06-21T09:53:56.555134",
     "exception": false,
     "start_time": "2023-06-21T09:53:56.540450",
     "status": "completed"
    },
    "tags": []
   },
   "source": [
    "**1.2 Loading Dataset** "
   ]
  },
  {
   "cell_type": "code",
   "execution_count": 4,
   "id": "629c6ac4",
   "metadata": {
    "execution": {
     "iopub.execute_input": "2023-06-21T09:53:56.587799Z",
     "iopub.status.busy": "2023-06-21T09:53:56.586969Z",
     "iopub.status.idle": "2023-06-21T09:53:56.881909Z",
     "shell.execute_reply": "2023-06-21T09:53:56.880604Z"
    },
    "papermill": {
     "duration": 0.31451,
     "end_time": "2023-06-21T09:53:56.884769",
     "exception": false,
     "start_time": "2023-06-21T09:53:56.570259",
     "status": "completed"
    },
    "tags": []
   },
   "outputs": [],
   "source": [
    "df = pd.read_csv(\"/dataset/input/asl-fingerspelling/train.csv\")\n",
    "metadata = pd.read_csv(\"/dataset/input/asl-fingerspelling/supplemental_metadata.csv\")"
   ]
  },
  {
   "cell_type": "markdown",
   "id": "b814d933",
   "metadata": {
    "papermill": {
     "duration": 0.01432,
     "end_time": "2023-06-21T09:53:56.913896",
     "exception": false,
     "start_time": "2023-06-21T09:53:56.899576",
     "status": "completed"
    },
    "tags": []
   },
   "source": [
    "**1.3 Data Description**"
   ]
  },
  {
   "cell_type": "code",
   "execution_count": 5,
   "id": "bd6d56c6",
   "metadata": {
    "execution": {
     "iopub.execute_input": "2023-06-21T09:53:56.944863Z",
     "iopub.status.busy": "2023-06-21T09:53:56.944461Z",
     "iopub.status.idle": "2023-06-21T09:53:56.976782Z",
     "shell.execute_reply": "2023-06-21T09:53:56.975544Z"
    },
    "papermill": {
     "duration": 0.051587,
     "end_time": "2023-06-21T09:53:56.979949",
     "exception": false,
     "start_time": "2023-06-21T09:53:56.928362",
     "status": "completed"
    },
    "tags": []
   },
   "outputs": [
    {
     "data": {
      "text/html": [
       "<div>\n",
       "<style scoped>\n",
       "    .dataframe tbody tr th:only-of-type {\n",
       "        vertical-align: middle;\n",
       "    }\n",
       "\n",
       "    .dataframe tbody tr th {\n",
       "        vertical-align: top;\n",
       "    }\n",
       "\n",
       "    .dataframe thead th {\n",
       "        text-align: right;\n",
       "    }\n",
       "</style>\n",
       "<table border=\"1\" class=\"dataframe\">\n",
       "  <thead>\n",
       "    <tr style=\"text-align: right;\">\n",
       "      <th></th>\n",
       "      <th>path</th>\n",
       "      <th>file_id</th>\n",
       "      <th>sequence_id</th>\n",
       "      <th>participant_id</th>\n",
       "      <th>phrase</th>\n",
       "    </tr>\n",
       "  </thead>\n",
       "  <tbody>\n",
       "    <tr>\n",
       "      <th>0</th>\n",
       "      <td>train_landmarks/5414471.parquet</td>\n",
       "      <td>5414471</td>\n",
       "      <td>1816796431</td>\n",
       "      <td>217</td>\n",
       "      <td>3 creekhouse</td>\n",
       "    </tr>\n",
       "    <tr>\n",
       "      <th>1</th>\n",
       "      <td>train_landmarks/5414471.parquet</td>\n",
       "      <td>5414471</td>\n",
       "      <td>1816825349</td>\n",
       "      <td>107</td>\n",
       "      <td>scales/kuhaylah</td>\n",
       "    </tr>\n",
       "    <tr>\n",
       "      <th>2</th>\n",
       "      <td>train_landmarks/5414471.parquet</td>\n",
       "      <td>5414471</td>\n",
       "      <td>1816909464</td>\n",
       "      <td>1</td>\n",
       "      <td>1383 william lanier</td>\n",
       "    </tr>\n",
       "    <tr>\n",
       "      <th>3</th>\n",
       "      <td>train_landmarks/5414471.parquet</td>\n",
       "      <td>5414471</td>\n",
       "      <td>1816967051</td>\n",
       "      <td>63</td>\n",
       "      <td>988 franklin lane</td>\n",
       "    </tr>\n",
       "    <tr>\n",
       "      <th>4</th>\n",
       "      <td>train_landmarks/5414471.parquet</td>\n",
       "      <td>5414471</td>\n",
       "      <td>1817123330</td>\n",
       "      <td>89</td>\n",
       "      <td>6920 northeast 661st road</td>\n",
       "    </tr>\n",
       "  </tbody>\n",
       "</table>\n",
       "</div>"
      ],
      "text/plain": [
       "                              path  file_id  sequence_id  participant_id  \\\n",
       "0  train_landmarks/5414471.parquet  5414471   1816796431             217   \n",
       "1  train_landmarks/5414471.parquet  5414471   1816825349             107   \n",
       "2  train_landmarks/5414471.parquet  5414471   1816909464               1   \n",
       "3  train_landmarks/5414471.parquet  5414471   1816967051              63   \n",
       "4  train_landmarks/5414471.parquet  5414471   1817123330              89   \n",
       "\n",
       "                      phrase  \n",
       "0               3 creekhouse  \n",
       "1            scales/kuhaylah  \n",
       "2        1383 william lanier  \n",
       "3          988 franklin lane  \n",
       "4  6920 northeast 661st road  "
      ]
     },
     "execution_count": 5,
     "metadata": {},
     "output_type": "execute_result"
    }
   ],
   "source": [
    "df.head()"
   ]
  },
  {
   "cell_type": "markdown",
   "id": "f32ae86d",
   "metadata": {
    "papermill": {
     "duration": 0.015161,
     "end_time": "2023-06-21T09:53:57.010491",
     "exception": false,
     "start_time": "2023-06-21T09:53:56.995330",
     "status": "completed"
    },
    "tags": []
   },
   "source": [
    "The phrases in the training set contains random websites/addresses/phone numbers"
   ]
  },
  {
   "cell_type": "code",
   "execution_count": 6,
   "id": "622156f0",
   "metadata": {
    "execution": {
     "iopub.execute_input": "2023-06-21T09:53:57.042142Z",
     "iopub.status.busy": "2023-06-21T09:53:57.041741Z",
     "iopub.status.idle": "2023-06-21T09:53:57.075789Z",
     "shell.execute_reply": "2023-06-21T09:53:57.074436Z"
    },
    "papermill": {
     "duration": 0.052992,
     "end_time": "2023-06-21T09:53:57.078241",
     "exception": false,
     "start_time": "2023-06-21T09:53:57.025249",
     "status": "completed"
    },
    "tags": []
   },
   "outputs": [
    {
     "name": "stdout",
     "output_type": "stream",
     "text": [
      "Total number of files : 67208\n",
      "Total number of Participant in the dataset : 94\n",
      "Total number of unique phrases : 46478\n"
     ]
    }
   ],
   "source": [
    "print(f\"Total number of files : {df.shape[0]}\")\n",
    "print(f\"Total number of Participant in the dataset : {df.participant_id.nunique()}\")\n",
    "print(f\"Total number of unique phrases : {df.phrase.nunique()}\")"
   ]
  },
  {
   "cell_type": "code",
   "execution_count": 7,
   "id": "21e7b0ee",
   "metadata": {
    "execution": {
     "iopub.execute_input": "2023-06-21T09:53:57.111311Z",
     "iopub.status.busy": "2023-06-21T09:53:57.110910Z",
     "iopub.status.idle": "2023-06-21T09:53:57.122567Z",
     "shell.execute_reply": "2023-06-21T09:53:57.121433Z"
    },
    "papermill": {
     "duration": 0.031509,
     "end_time": "2023-06-21T09:53:57.125102",
     "exception": false,
     "start_time": "2023-06-21T09:53:57.093593",
     "status": "completed"
    },
    "tags": []
   },
   "outputs": [
    {
     "data": {
      "text/html": [
       "<div>\n",
       "<style scoped>\n",
       "    .dataframe tbody tr th:only-of-type {\n",
       "        vertical-align: middle;\n",
       "    }\n",
       "\n",
       "    .dataframe tbody tr th {\n",
       "        vertical-align: top;\n",
       "    }\n",
       "\n",
       "    .dataframe thead th {\n",
       "        text-align: right;\n",
       "    }\n",
       "</style>\n",
       "<table border=\"1\" class=\"dataframe\">\n",
       "  <thead>\n",
       "    <tr style=\"text-align: right;\">\n",
       "      <th></th>\n",
       "      <th>path</th>\n",
       "      <th>file_id</th>\n",
       "      <th>sequence_id</th>\n",
       "      <th>participant_id</th>\n",
       "      <th>phrase</th>\n",
       "    </tr>\n",
       "  </thead>\n",
       "  <tbody>\n",
       "    <tr>\n",
       "      <th>0</th>\n",
       "      <td>supplemental_landmarks/33432165.parquet</td>\n",
       "      <td>33432165</td>\n",
       "      <td>1535467051</td>\n",
       "      <td>251</td>\n",
       "      <td>coming up with killer sound bites</td>\n",
       "    </tr>\n",
       "    <tr>\n",
       "      <th>1</th>\n",
       "      <td>supplemental_landmarks/33432165.parquet</td>\n",
       "      <td>33432165</td>\n",
       "      <td>1535499058</td>\n",
       "      <td>239</td>\n",
       "      <td>we better investigate this</td>\n",
       "    </tr>\n",
       "    <tr>\n",
       "      <th>2</th>\n",
       "      <td>supplemental_landmarks/33432165.parquet</td>\n",
       "      <td>33432165</td>\n",
       "      <td>1535530550</td>\n",
       "      <td>245</td>\n",
       "      <td>interesting observation was made</td>\n",
       "    </tr>\n",
       "    <tr>\n",
       "      <th>3</th>\n",
       "      <td>supplemental_landmarks/33432165.parquet</td>\n",
       "      <td>33432165</td>\n",
       "      <td>1535545499</td>\n",
       "      <td>38</td>\n",
       "      <td>victims deserve more redress</td>\n",
       "    </tr>\n",
       "    <tr>\n",
       "      <th>4</th>\n",
       "      <td>supplemental_landmarks/33432165.parquet</td>\n",
       "      <td>33432165</td>\n",
       "      <td>1535585216</td>\n",
       "      <td>254</td>\n",
       "      <td>knee bone is connected to the thigh bone</td>\n",
       "    </tr>\n",
       "  </tbody>\n",
       "</table>\n",
       "</div>"
      ],
      "text/plain": [
       "                                      path   file_id  sequence_id  \\\n",
       "0  supplemental_landmarks/33432165.parquet  33432165   1535467051   \n",
       "1  supplemental_landmarks/33432165.parquet  33432165   1535499058   \n",
       "2  supplemental_landmarks/33432165.parquet  33432165   1535530550   \n",
       "3  supplemental_landmarks/33432165.parquet  33432165   1535545499   \n",
       "4  supplemental_landmarks/33432165.parquet  33432165   1535585216   \n",
       "\n",
       "   participant_id                                    phrase  \n",
       "0             251         coming up with killer sound bites  \n",
       "1             239                we better investigate this  \n",
       "2             245          interesting observation was made  \n",
       "3              38              victims deserve more redress  \n",
       "4             254  knee bone is connected to the thigh bone  "
      ]
     },
     "execution_count": 7,
     "metadata": {},
     "output_type": "execute_result"
    }
   ],
   "source": [
    "metadata.head()"
   ]
  },
  {
   "cell_type": "markdown",
   "id": "42328ff7",
   "metadata": {
    "papermill": {
     "duration": 0.014991,
     "end_time": "2023-06-21T09:53:57.155334",
     "exception": false,
     "start_time": "2023-06-21T09:53:57.140343",
     "status": "completed"
    },
    "tags": []
   },
   "source": [
    "The metadata consists of normal sentences only.."
   ]
  },
  {
   "cell_type": "markdown",
   "id": "0c452a7d",
   "metadata": {
    "papermill": {
     "duration": 0.015278,
     "end_time": "2023-06-21T09:53:57.185981",
     "exception": false,
     "start_time": "2023-06-21T09:53:57.170703",
     "status": "completed"
    },
    "tags": []
   },
   "source": [
    "**The data consist of:**\n",
    "path - The path to the landmark file.\n",
    "\n",
    "file_id - A unique identifier for the data file.\n",
    "\n",
    "participant_id - A unique identifier for the data contributor.\n",
    "\n",
    "sequence_id - A unique identifier for the landmark sequence. Each data file may contain many sequences.\n",
    "\n",
    "phrase - The labels for the landmark sequence. The train and test datasets contain randomly generated addresses, phone numbers, and urls derived from components of real addresses/phone numbers/urls."
   ]
  },
  {
   "cell_type": "markdown",
   "id": "e98d3c32",
   "metadata": {
    "papermill": {
     "duration": 0.014787,
     "end_time": "2023-06-21T09:53:57.216043",
     "exception": false,
     "start_time": "2023-06-21T09:53:57.201256",
     "status": "completed"
    },
    "tags": []
   },
   "source": [
    "Let's checkout Dataframe information more..."
   ]
  },
  {
   "cell_type": "code",
   "execution_count": 8,
   "id": "82dfc3f9",
   "metadata": {
    "execution": {
     "iopub.execute_input": "2023-06-21T09:53:57.248395Z",
     "iopub.status.busy": "2023-06-21T09:53:57.248015Z",
     "iopub.status.idle": "2023-06-21T09:53:57.316087Z",
     "shell.execute_reply": "2023-06-21T09:53:57.314724Z"
    },
    "papermill": {
     "duration": 0.087298,
     "end_time": "2023-06-21T09:53:57.318479",
     "exception": false,
     "start_time": "2023-06-21T09:53:57.231181",
     "status": "completed"
    },
    "tags": []
   },
   "outputs": [
    {
     "name": "stdout",
     "output_type": "stream",
     "text": [
      "<class 'pandas.core.frame.DataFrame'>\n",
      "RangeIndex: 67208 entries, 0 to 67207\n",
      "Data columns (total 5 columns):\n",
      " #   Column          Non-Null Count  Dtype \n",
      "---  ------          --------------  ----- \n",
      " 0   path            67208 non-null  object\n",
      " 1   file_id         67208 non-null  int64 \n",
      " 2   sequence_id     67208 non-null  int64 \n",
      " 3   participant_id  67208 non-null  int64 \n",
      " 4   phrase          67208 non-null  object\n",
      "dtypes: int64(3), object(2)\n",
      "memory usage: 2.6+ MB\n"
     ]
    }
   ],
   "source": [
    "# Check the dimensions of the dataset\n",
    "df.shape\n",
    "\n",
    "# Check the data types of columns\n",
    "df.info()"
   ]
  },
  {
   "cell_type": "code",
   "execution_count": 9,
   "id": "7e997648",
   "metadata": {
    "execution": {
     "iopub.execute_input": "2023-06-21T09:53:57.351906Z",
     "iopub.status.busy": "2023-06-21T09:53:57.350854Z",
     "iopub.status.idle": "2023-06-21T09:53:57.383066Z",
     "shell.execute_reply": "2023-06-21T09:53:57.381893Z"
    },
    "papermill": {
     "duration": 0.05162,
     "end_time": "2023-06-21T09:53:57.385454",
     "exception": false,
     "start_time": "2023-06-21T09:53:57.333834",
     "status": "completed"
    },
    "tags": []
   },
   "outputs": [
    {
     "data": {
      "text/html": [
       "<div>\n",
       "<style scoped>\n",
       "    .dataframe tbody tr th:only-of-type {\n",
       "        vertical-align: middle;\n",
       "    }\n",
       "\n",
       "    .dataframe tbody tr th {\n",
       "        vertical-align: top;\n",
       "    }\n",
       "\n",
       "    .dataframe thead th {\n",
       "        text-align: right;\n",
       "    }\n",
       "</style>\n",
       "<table border=\"1\" class=\"dataframe\">\n",
       "  <thead>\n",
       "    <tr style=\"text-align: right;\">\n",
       "      <th></th>\n",
       "      <th>file_id</th>\n",
       "      <th>sequence_id</th>\n",
       "      <th>participant_id</th>\n",
       "    </tr>\n",
       "  </thead>\n",
       "  <tbody>\n",
       "    <tr>\n",
       "      <th>count</th>\n",
       "      <td>6.720800e+04</td>\n",
       "      <td>6.720800e+04</td>\n",
       "      <td>67208.000000</td>\n",
       "    </tr>\n",
       "    <tr>\n",
       "      <th>mean</th>\n",
       "      <td>1.094448e+09</td>\n",
       "      <td>1.072696e+09</td>\n",
       "      <td>119.758154</td>\n",
       "    </tr>\n",
       "    <tr>\n",
       "      <th>std</th>\n",
       "      <td>6.395616e+08</td>\n",
       "      <td>6.177372e+08</td>\n",
       "      <td>74.330468</td>\n",
       "    </tr>\n",
       "    <tr>\n",
       "      <th>min</th>\n",
       "      <td>5.414471e+06</td>\n",
       "      <td>7.109500e+04</td>\n",
       "      <td>0.000000</td>\n",
       "    </tr>\n",
       "    <tr>\n",
       "      <th>25%</th>\n",
       "      <td>5.277082e+08</td>\n",
       "      <td>5.376519e+08</td>\n",
       "      <td>63.000000</td>\n",
       "    </tr>\n",
       "    <tr>\n",
       "      <th>50%</th>\n",
       "      <td>1.099408e+09</td>\n",
       "      <td>1.074387e+09</td>\n",
       "      <td>113.000000</td>\n",
       "    </tr>\n",
       "    <tr>\n",
       "      <th>75%</th>\n",
       "      <td>1.662743e+09</td>\n",
       "      <td>1.605592e+09</td>\n",
       "      <td>178.000000</td>\n",
       "    </tr>\n",
       "    <tr>\n",
       "      <th>max</th>\n",
       "      <td>2.118949e+09</td>\n",
       "      <td>2.147465e+09</td>\n",
       "      <td>254.000000</td>\n",
       "    </tr>\n",
       "  </tbody>\n",
       "</table>\n",
       "</div>"
      ],
      "text/plain": [
       "            file_id   sequence_id  participant_id\n",
       "count  6.720800e+04  6.720800e+04    67208.000000\n",
       "mean   1.094448e+09  1.072696e+09      119.758154\n",
       "std    6.395616e+08  6.177372e+08       74.330468\n",
       "min    5.414471e+06  7.109500e+04        0.000000\n",
       "25%    5.277082e+08  5.376519e+08       63.000000\n",
       "50%    1.099408e+09  1.074387e+09      113.000000\n",
       "75%    1.662743e+09  1.605592e+09      178.000000\n",
       "max    2.118949e+09  2.147465e+09      254.000000"
      ]
     },
     "execution_count": 9,
     "metadata": {},
     "output_type": "execute_result"
    }
   ],
   "source": [
    "df.describe()"
   ]
  },
  {
   "cell_type": "markdown",
   "id": "13b39918",
   "metadata": {
    "papermill": {
     "duration": 0.015303,
     "end_time": "2023-06-21T09:53:57.416753",
     "exception": false,
     "start_time": "2023-06-21T09:53:57.401450",
     "status": "completed"
    },
    "tags": []
   },
   "source": [
    "# 2. EXPLORATORY DATA ANALYSIS (EDA)"
   ]
  },
  {
   "cell_type": "markdown",
   "id": "235e3bd0",
   "metadata": {
    "papermill": {
     "duration": 0.015354,
     "end_time": "2023-06-21T09:53:57.447727",
     "exception": false,
     "start_time": "2023-06-21T09:53:57.432373",
     "status": "completed"
    },
    "tags": []
   },
   "source": [
    "**2.1 Inspect the 'PATH' Column**"
   ]
  },
  {
   "cell_type": "code",
   "execution_count": 10,
   "id": "7cbad500",
   "metadata": {
    "execution": {
     "iopub.execute_input": "2023-06-21T09:53:57.481248Z",
     "iopub.status.busy": "2023-06-21T09:53:57.480809Z",
     "iopub.status.idle": "2023-06-21T09:53:57.523500Z",
     "shell.execute_reply": "2023-06-21T09:53:57.522119Z"
    },
    "papermill": {
     "duration": 0.06275,
     "end_time": "2023-06-21T09:53:57.526107",
     "exception": false,
     "start_time": "2023-06-21T09:53:57.463357",
     "status": "completed"
    },
    "tags": []
   },
   "outputs": [
    {
     "data": {
      "text/html": [
       "<div>\n",
       "<style scoped>\n",
       "    .dataframe tbody tr th:only-of-type {\n",
       "        vertical-align: middle;\n",
       "    }\n",
       "\n",
       "    .dataframe tbody tr th {\n",
       "        vertical-align: top;\n",
       "    }\n",
       "\n",
       "    .dataframe thead th {\n",
       "        text-align: right;\n",
       "    }\n",
       "</style>\n",
       "<table border=\"1\" class=\"dataframe\">\n",
       "  <thead>\n",
       "    <tr style=\"text-align: right;\">\n",
       "      <th></th>\n",
       "      <th>count</th>\n",
       "      <th>unique</th>\n",
       "      <th>top</th>\n",
       "      <th>freq</th>\n",
       "    </tr>\n",
       "  </thead>\n",
       "  <tbody>\n",
       "    <tr>\n",
       "      <th>path</th>\n",
       "      <td>67208</td>\n",
       "      <td>68</td>\n",
       "      <td>train_landmarks/5414471.parquet</td>\n",
       "      <td>1000</td>\n",
       "    </tr>\n",
       "  </tbody>\n",
       "</table>\n",
       "</div>"
      ],
      "text/plain": [
       "      count unique                              top  freq\n",
       "path  67208     68  train_landmarks/5414471.parquet  1000"
      ]
     },
     "execution_count": 10,
     "metadata": {},
     "output_type": "execute_result"
    }
   ],
   "source": [
    "np.array(list(df[\"path\"].value_counts().to_dict().values())).min()\n",
    "df[\"path\"].describe().to_frame().T"
   ]
  },
  {
   "cell_type": "markdown",
   "id": "19d98e60",
   "metadata": {
    "papermill": {
     "duration": 0.015463,
     "end_time": "2023-06-21T09:53:57.557487",
     "exception": false,
     "start_time": "2023-06-21T09:53:57.542024",
     "status": "completed"
    },
    "tags": []
   },
   "source": [
    "The path column is simply the path to the landmark file (parquet).\n",
    "\n",
    "Number unique paths: 68\n",
    "\n",
    "Minimum Number of repeated path is: 287\n",
    "\n",
    "Maximum Number of repeated path is: 1000"
   ]
  },
  {
   "cell_type": "markdown",
   "id": "c37d444e",
   "metadata": {
    "papermill": {
     "duration": 0.016024,
     "end_time": "2023-06-21T09:53:57.589353",
     "exception": false,
     "start_time": "2023-06-21T09:53:57.573329",
     "status": "completed"
    },
    "tags": []
   },
   "source": [
    "**2.2 Inspect the 'participant_id' Column**"
   ]
  },
  {
   "cell_type": "code",
   "execution_count": 11,
   "id": "4b28e072",
   "metadata": {
    "execution": {
     "iopub.execute_input": "2023-06-21T09:53:57.625672Z",
     "iopub.status.busy": "2023-06-21T09:53:57.625019Z",
     "iopub.status.idle": "2023-06-21T09:53:57.710575Z",
     "shell.execute_reply": "2023-06-21T09:53:57.709535Z"
    },
    "papermill": {
     "duration": 0.106514,
     "end_time": "2023-06-21T09:53:57.713268",
     "exception": false,
     "start_time": "2023-06-21T09:53:57.606754",
     "status": "completed"
    },
    "tags": []
   },
   "outputs": [
    {
     "data": {
      "text/html": [
       "<div>\n",
       "<style scoped>\n",
       "    .dataframe tbody tr th:only-of-type {\n",
       "        vertical-align: middle;\n",
       "    }\n",
       "\n",
       "    .dataframe tbody tr th {\n",
       "        vertical-align: top;\n",
       "    }\n",
       "\n",
       "    .dataframe thead th {\n",
       "        text-align: right;\n",
       "    }\n",
       "</style>\n",
       "<table border=\"1\" class=\"dataframe\">\n",
       "  <thead>\n",
       "    <tr style=\"text-align: right;\">\n",
       "      <th></th>\n",
       "      <th>count</th>\n",
       "      <th>unique</th>\n",
       "      <th>top</th>\n",
       "      <th>freq</th>\n",
       "    </tr>\n",
       "  </thead>\n",
       "  <tbody>\n",
       "    <tr>\n",
       "      <th>participant_id</th>\n",
       "      <td>67208</td>\n",
       "      <td>94</td>\n",
       "      <td>36</td>\n",
       "      <td>1535</td>\n",
       "    </tr>\n",
       "  </tbody>\n",
       "</table>\n",
       "</div>"
      ],
      "text/plain": [
       "                count unique top  freq\n",
       "participant_id  67208     94  36  1535"
      ]
     },
     "execution_count": 11,
     "metadata": {},
     "output_type": "execute_result"
    }
   ],
   "source": [
    "df[\"participant_id\"].astype(str).describe().to_frame().T"
   ]
  },
  {
   "cell_type": "markdown",
   "id": "36056158",
   "metadata": {
    "papermill": {
     "duration": 0.015732,
     "end_time": "2023-06-21T09:53:57.745175",
     "exception": false,
     "start_time": "2023-06-21T09:53:57.729443",
     "status": "completed"
    },
    "tags": []
   },
   "source": [
    "The participant_id statistics indicate a varied distribution of data contributions among participants, with some participants contributing more examples than others.\n",
    "\n",
    "Number of Unique Participants: 94\n",
    "\n",
    "Average Number of Rows Per Participant: 715.82\n",
    "\n",
    "Standard Deviation in Counts Per Participant: 230.86\n",
    "\n",
    "Minimum Number of Examples For One Participant: 1\n",
    "\n",
    "Maximum Number of Examples For One Participant: 1537"
   ]
  },
  {
   "cell_type": "code",
   "execution_count": 12,
   "id": "5645262f",
   "metadata": {
    "execution": {
     "iopub.execute_input": "2023-06-21T09:53:57.780259Z",
     "iopub.status.busy": "2023-06-21T09:53:57.779826Z",
     "iopub.status.idle": "2023-06-21T09:53:58.854169Z",
     "shell.execute_reply": "2023-06-21T09:53:58.853180Z"
    },
    "papermill": {
     "duration": 1.094809,
     "end_time": "2023-06-21T09:53:58.856496",
     "exception": false,
     "start_time": "2023-06-21T09:53:57.761687",
     "status": "completed"
    },
    "tags": []
   },
   "outputs": [
    {
     "data": {
      "image/png": "[encoded data removed]",
      "text/plain": [
       "<Figure size 1500x600 with 1 Axes>"
      ]
     },
     "metadata": {},
     "output_type": "display_data"
    }
   ],
   "source": [
    "color_scheme = [\"#4f000b\", \"#720026\", \"#ce4257\", \"#ff7f51\", \"#ff9b54\"]\n",
    "#The column is set to strings as it is an ID\n",
    "df[\"participant_id\"] = df[\"participant_id\"].astype(str)\n",
    "\n",
    "# Calculate the counts for each participant_id\n",
    "counts = df[\"participant_id\"].value_counts()\n",
    "\n",
    "# Set up the figure and axes\n",
    "fig, ax = plt.subplots(figsize=(15, 6))\n",
    "\n",
    "# Plot the histogram\n",
    "bars = ax.bar(counts.index, counts.values, color=color_scheme[1])\n",
    "\n",
    "# Set the labels and title\n",
    "ax.set_xlabel(\"Participant ID\")\n",
    "ax.set_ylabel(\"Total Row Count\")\n",
    "ax.set_title(\"Row Counts by Participant ID\")\n",
    "\n",
    "# Rotate the x-axis labels if needed\n",
    "plt.xticks(rotation=90, ha='center')\n",
    "plt.xlim(-1, 94)\n",
    "\n",
    "# Show the plot\n",
    "plt.show()"
   ]
  },
  {
   "cell_type": "markdown",
   "id": "7d69dc07",
   "metadata": {
    "papermill": {
     "duration": 0.016457,
     "end_time": "2023-06-21T09:53:58.889748",
     "exception": false,
     "start_time": "2023-06-21T09:53:58.873291",
     "status": "completed"
    },
    "tags": []
   },
   "source": [
    "**2.3 Inspect the 'sequence_id' Column**"
   ]
  },
  {
   "cell_type": "code",
   "execution_count": 13,
   "id": "b8660f7e",
   "metadata": {
    "execution": {
     "iopub.execute_input": "2023-06-21T09:53:58.925490Z",
     "iopub.status.busy": "2023-06-21T09:53:58.924823Z",
     "iopub.status.idle": "2023-06-21T09:53:59.047741Z",
     "shell.execute_reply": "2023-06-21T09:53:59.046897Z"
    },
    "papermill": {
     "duration": 0.14375,
     "end_time": "2023-06-21T09:53:59.050204",
     "exception": false,
     "start_time": "2023-06-21T09:53:58.906454",
     "status": "completed"
    },
    "tags": []
   },
   "outputs": [
    {
     "data": {
      "text/html": [
       "<div>\n",
       "<style scoped>\n",
       "    .dataframe tbody tr th:only-of-type {\n",
       "        vertical-align: middle;\n",
       "    }\n",
       "\n",
       "    .dataframe tbody tr th {\n",
       "        vertical-align: top;\n",
       "    }\n",
       "\n",
       "    .dataframe thead th {\n",
       "        text-align: right;\n",
       "    }\n",
       "</style>\n",
       "<table border=\"1\" class=\"dataframe\">\n",
       "  <thead>\n",
       "    <tr style=\"text-align: right;\">\n",
       "      <th></th>\n",
       "      <th>count</th>\n",
       "      <th>unique</th>\n",
       "      <th>top</th>\n",
       "      <th>freq</th>\n",
       "    </tr>\n",
       "  </thead>\n",
       "  <tbody>\n",
       "    <tr>\n",
       "      <th>sequence_id</th>\n",
       "      <td>67208</td>\n",
       "      <td>67208</td>\n",
       "      <td>1816796431</td>\n",
       "      <td>1</td>\n",
       "    </tr>\n",
       "  </tbody>\n",
       "</table>\n",
       "</div>"
      ],
      "text/plain": [
       "             count unique         top freq\n",
       "sequence_id  67208  67208  1816796431    1"
      ]
     },
     "execution_count": 13,
     "metadata": {},
     "output_type": "execute_result"
    }
   ],
   "source": [
    "df[\"sequence_id\"].astype(str).describe().to_frame().T"
   ]
  },
  {
   "cell_type": "markdown",
   "id": "0889950a",
   "metadata": {
    "papermill": {
     "duration": 0.016771,
     "end_time": "2023-06-21T09:53:59.083955",
     "exception": false,
     "start_time": "2023-06-21T09:53:59.067184",
     "status": "completed"
    },
    "tags": []
   },
   "source": [
    "A unique identifier for the landmark sequence. Each data file may contain many sequences. Every value is unique for every row"
   ]
  },
  {
   "cell_type": "markdown",
   "id": "e0ca3cc4",
   "metadata": {
    "papermill": {
     "duration": 0.016502,
     "end_time": "2023-06-21T09:53:59.117312",
     "exception": false,
     "start_time": "2023-06-21T09:53:59.100810",
     "status": "completed"
    },
    "tags": []
   },
   "source": [
    "**2.4 Inspect the 'phrases' Column**"
   ]
  },
  {
   "cell_type": "code",
   "execution_count": 14,
   "id": "68321011",
   "metadata": {
    "execution": {
     "iopub.execute_input": "2023-06-21T09:53:59.153313Z",
     "iopub.status.busy": "2023-06-21T09:53:59.152349Z",
     "iopub.status.idle": "2023-06-21T09:54:00.744074Z",
     "shell.execute_reply": "2023-06-21T09:54:00.743111Z"
    },
    "papermill": {
     "duration": 1.612298,
     "end_time": "2023-06-21T09:54:00.746444",
     "exception": false,
     "start_time": "2023-06-21T09:53:59.134146",
     "status": "completed"
    },
    "tags": []
   },
   "outputs": [
    {
     "data": {
      "image/png": "[encoded data removed]",
      "text/plain": [
       "<Figure size 1000x700 with 2 Axes>"
      ]
     },
     "metadata": {},
     "output_type": "display_data"
    }
   ],
   "source": [
    "import seaborn as sns\n",
    "\n",
    "df['phrase_len'] = df.phrase.str.len()\n",
    "metadata['phrase_len'] = metadata.phrase.str.len()\n",
    "\n",
    "for param in ['text.color', 'axes.labelcolor', 'xtick.color', 'ytick.color']:\n",
    "    plt.rcParams[param] = '#000000'  # very light grey\n",
    "\n",
    "for param in ['figure.facecolor', 'axes.facecolor', 'savefig.facecolor']:\n",
    "    plt.rcParams[param] = '#ffffff'  # bluish dark grey\n",
    "\n",
    "fig, axs = plt.subplots(1, 1, figsize=(10, 7), tight_layout=True)\n",
    "\n",
    "# Remove axes splines\n",
    "for s in ['top', 'bottom', 'left', 'right']:\n",
    "    axs.spines[s].set_visible(False)\n",
    "\n",
    "# Remove x, y ticks\n",
    "axs.xaxis.set_ticks_position('none')\n",
    "axs.yaxis.set_ticks_position('none')\n",
    "\n",
    "# Add padding between axes and labels\n",
    "axs.xaxis.set_tick_params(pad=5)\n",
    "axs.yaxis.set_tick_params(pad=10)\n",
    "color_scheme = [\"#4f000b\", \"#720026\", \"#ce4257\", \"#ff7f51\", \"#ff9b54\"]\n",
    "\n",
    "# Add x, y gridlines\n",
    "axs.grid(visible=True, color='grey', linestyle='-.', linewidth=0.5, alpha=0.6)\n",
    "\n",
    "\n",
    "plt.subplot(1, 2, 1)\n",
    "sns.histplot(df.phrase_len, kde=True, binwidth = 2, color=color_scheme[0])\n",
    "plt.title('Character occurences in each phrase in training set')\n",
    "plt.xlabel('Phrase length')\n",
    "plt.ylabel('Sample Count')\n",
    "\n",
    "plt.subplot(1, 2, 2)\n",
    "sns.histplot(metadata.phrase_len, kde=True, binwidth = 2, color=color_scheme[0])\n",
    "plt.title('    and Supplementary metadata')\n",
    "plt.xlabel('Unique characters')\n",
    "plt.ylabel('Sample Count')\n",
    "plt.grid(axis='y')\n",
    "\n",
    "plt.tight_layout()\n",
    "plt.show()"
   ]
  },
  {
   "cell_type": "markdown",
   "id": "4f1b1d43",
   "metadata": {
    "papermill": {
     "duration": 0.018267,
     "end_time": "2023-06-21T09:54:00.782811",
     "exception": false,
     "start_time": "2023-06-21T09:54:00.764544",
     "status": "completed"
    },
    "tags": []
   },
   "source": [
    "**2.4.1 What phrases are we trying to predict?**"
   ]
  },
  {
   "cell_type": "code",
   "execution_count": 15,
   "id": "1f28f230",
   "metadata": {
    "execution": {
     "iopub.execute_input": "2023-06-21T09:54:00.821679Z",
     "iopub.status.busy": "2023-06-21T09:54:00.820896Z",
     "iopub.status.idle": "2023-06-21T09:54:01.835719Z",
     "shell.execute_reply": "2023-06-21T09:54:01.834835Z"
    },
    "papermill": {
     "duration": 1.038094,
     "end_time": "2023-06-21T09:54:01.839152",
     "exception": false,
     "start_time": "2023-06-21T09:54:00.801058",
     "status": "completed"
    },
    "tags": []
   },
   "outputs": [
    {
     "data": {
      "image/png": "[encoded data removed]",
      "text/plain": [
       "<Figure size 800x800 with 1 Axes>"
      ]
     },
     "metadata": {},
     "output_type": "display_data"
    }
   ],
   "source": [
    "import matplotlib.pyplot as plt\n",
    "train = pd.read_csv('/dataset/input/asl-fingerspelling/train.csv')\n",
    "fig, ax = plt.subplots(figsize=(8, 8))\n",
    "train[\"phrase\"].value_counts().head(50).sort_values(ascending=True).plot(\n",
    "    kind=\"barh\", ax=ax, title=\"Top 50 Signs in Training Dataset\"\n",
    ")\n",
    "ax.set_xlabel(\"Number of Training Examples\")\n",
    "plt.show()"
   ]
  },
  {
   "cell_type": "code",
   "execution_count": 16,
   "id": "979f06e7",
   "metadata": {
    "execution": {
     "iopub.execute_input": "2023-06-21T09:54:01.881946Z",
     "iopub.status.busy": "2023-06-21T09:54:01.881509Z",
     "iopub.status.idle": "2023-06-21T09:54:02.697893Z",
     "shell.execute_reply": "2023-06-21T09:54:02.696411Z"
    },
    "papermill": {
     "duration": 0.840954,
     "end_time": "2023-06-21T09:54:02.700471",
     "exception": false,
     "start_time": "2023-06-21T09:54:01.859517",
     "status": "completed"
    },
    "tags": []
   },
   "outputs": [
    {
     "data": {
      "image/png": "[encoded data removed]",
      "text/plain": [
       "<Figure size 800x800 with 1 Axes>"
      ]
     },
     "metadata": {},
     "output_type": "display_data"
    }
   ],
   "source": [
    "import matplotlib.pyplot as plt\n",
    "fig, ax = plt.subplots(figsize=(8, 8))\n",
    "train[\"phrase\"].value_counts().tail(50).sort_values(ascending=True).plot(\n",
    "    kind=\"barh\", ax=ax, title=\"Bottom 50 Signs in Training Dataset\"\n",
    ")\n",
    "ax.set_xlabel(\"Number of Training Examples\")\n",
    "plt.show()"
   ]
  },
  {
   "cell_type": "markdown",
   "id": "2e626688",
   "metadata": {
    "papermill": {
     "duration": 0.021636,
     "end_time": "2023-06-21T09:54:02.744104",
     "exception": false,
     "start_time": "2023-06-21T09:54:02.722468",
     "status": "completed"
    },
    "tags": []
   },
   "source": [
    "**2.5 Inspecting the 'parquet' column** "
   ]
  },
  {
   "cell_type": "code",
   "execution_count": 17,
   "id": "8d3b4f4c",
   "metadata": {
    "execution": {
     "iopub.execute_input": "2023-06-21T09:54:02.792302Z",
     "iopub.status.busy": "2023-06-21T09:54:02.791625Z",
     "iopub.status.idle": "2023-06-21T09:54:18.175968Z",
     "shell.execute_reply": "2023-06-21T09:54:18.174696Z"
    },
    "papermill": {
     "duration": 15.411286,
     "end_time": "2023-06-21T09:54:18.179005",
     "exception": false,
     "start_time": "2023-06-21T09:54:02.767719",
     "status": "completed"
    },
    "tags": []
   },
   "outputs": [],
   "source": [
    "sample = pd.read_parquet(\"/dataset/input/asl-fingerspelling/train_landmarks/1019715464.parquet\")"
   ]
  },
  {
   "cell_type": "code",
   "execution_count": 18,
   "id": "98493a1e",
   "metadata": {
    "execution": {
     "iopub.execute_input": "2023-06-21T09:54:18.227602Z",
     "iopub.status.busy": "2023-06-21T09:54:18.226899Z",
     "iopub.status.idle": "2023-06-21T09:54:18.268534Z",
     "shell.execute_reply": "2023-06-21T09:54:18.267338Z"
    },
    "papermill": {
     "duration": 0.069611,
     "end_time": "2023-06-21T09:54:18.271497",
     "exception": false,
     "start_time": "2023-06-21T09:54:18.201886",
     "status": "completed"
    },
    "tags": []
   },
   "outputs": [
    {
     "name": "stdout",
     "output_type": "stream",
     "text": [
      "Sample shape = (161461, 1630)\n"
     ]
    },
    {
     "data": {
      "text/html": [
       "<div>\n",
       "<style scoped>\n",
       "    .dataframe tbody tr th:only-of-type {\n",
       "        vertical-align: middle;\n",
       "    }\n",
       "\n",
       "    .dataframe tbody tr th {\n",
       "        vertical-align: top;\n",
       "    }\n",
       "\n",
       "    .dataframe thead th {\n",
       "        text-align: right;\n",
       "    }\n",
       "</style>\n",
       "<table border=\"1\" class=\"dataframe\">\n",
       "  <thead>\n",
       "    <tr style=\"text-align: right;\">\n",
       "      <th></th>\n",
       "      <th>frame</th>\n",
       "      <th>x_face_0</th>\n",
       "      <th>x_face_1</th>\n",
       "      <th>x_face_2</th>\n",
       "      <th>x_face_3</th>\n",
       "      <th>x_face_4</th>\n",
       "      <th>x_face_5</th>\n",
       "      <th>x_face_6</th>\n",
       "      <th>x_face_7</th>\n",
       "      <th>x_face_8</th>\n",
       "      <th>...</th>\n",
       "      <th>z_right_hand_11</th>\n",
       "      <th>z_right_hand_12</th>\n",
       "      <th>z_right_hand_13</th>\n",
       "      <th>z_right_hand_14</th>\n",
       "      <th>z_right_hand_15</th>\n",
       "      <th>z_right_hand_16</th>\n",
       "      <th>z_right_hand_17</th>\n",
       "      <th>z_right_hand_18</th>\n",
       "      <th>z_right_hand_19</th>\n",
       "      <th>z_right_hand_20</th>\n",
       "    </tr>\n",
       "    <tr>\n",
       "      <th>sequence_id</th>\n",
       "      <th></th>\n",
       "      <th></th>\n",
       "      <th></th>\n",
       "      <th></th>\n",
       "      <th></th>\n",
       "      <th></th>\n",
       "      <th></th>\n",
       "      <th></th>\n",
       "      <th></th>\n",
       "      <th></th>\n",
       "      <th></th>\n",
       "      <th></th>\n",
       "      <th></th>\n",
       "      <th></th>\n",
       "      <th></th>\n",
       "      <th></th>\n",
       "      <th></th>\n",
       "      <th></th>\n",
       "      <th></th>\n",
       "      <th></th>\n",
       "      <th></th>\n",
       "    </tr>\n",
       "  </thead>\n",
       "  <tbody>\n",
       "    <tr>\n",
       "      <th>2006628912</th>\n",
       "      <td>58</td>\n",
       "      <td>0.370001</td>\n",
       "      <td>0.361797</td>\n",
       "      <td>0.366255</td>\n",
       "      <td>0.351666</td>\n",
       "      <td>0.361647</td>\n",
       "      <td>0.363589</td>\n",
       "      <td>0.370067</td>\n",
       "      <td>0.268139</td>\n",
       "      <td>0.372778</td>\n",
       "      <td>...</td>\n",
       "      <td>NaN</td>\n",
       "      <td>NaN</td>\n",
       "      <td>NaN</td>\n",
       "      <td>NaN</td>\n",
       "      <td>NaN</td>\n",
       "      <td>NaN</td>\n",
       "      <td>NaN</td>\n",
       "      <td>NaN</td>\n",
       "      <td>NaN</td>\n",
       "      <td>NaN</td>\n",
       "    </tr>\n",
       "    <tr>\n",
       "      <th>1983194546</th>\n",
       "      <td>131</td>\n",
       "      <td>0.341312</td>\n",
       "      <td>0.341534</td>\n",
       "      <td>0.341007</td>\n",
       "      <td>0.317367</td>\n",
       "      <td>0.339826</td>\n",
       "      <td>0.336314</td>\n",
       "      <td>0.326607</td>\n",
       "      <td>0.196890</td>\n",
       "      <td>0.320492</td>\n",
       "      <td>...</td>\n",
       "      <td>NaN</td>\n",
       "      <td>NaN</td>\n",
       "      <td>NaN</td>\n",
       "      <td>NaN</td>\n",
       "      <td>NaN</td>\n",
       "      <td>NaN</td>\n",
       "      <td>NaN</td>\n",
       "      <td>NaN</td>\n",
       "      <td>NaN</td>\n",
       "      <td>NaN</td>\n",
       "    </tr>\n",
       "    <tr>\n",
       "      <th>1979407532</th>\n",
       "      <td>121</td>\n",
       "      <td>0.556440</td>\n",
       "      <td>0.561206</td>\n",
       "      <td>0.558688</td>\n",
       "      <td>0.554106</td>\n",
       "      <td>0.563067</td>\n",
       "      <td>0.565347</td>\n",
       "      <td>0.570429</td>\n",
       "      <td>0.468345</td>\n",
       "      <td>0.574425</td>\n",
       "      <td>...</td>\n",
       "      <td>NaN</td>\n",
       "      <td>NaN</td>\n",
       "      <td>NaN</td>\n",
       "      <td>NaN</td>\n",
       "      <td>NaN</td>\n",
       "      <td>NaN</td>\n",
       "      <td>NaN</td>\n",
       "      <td>NaN</td>\n",
       "      <td>NaN</td>\n",
       "      <td>NaN</td>\n",
       "    </tr>\n",
       "    <tr>\n",
       "      <th>1989722281</th>\n",
       "      <td>77</td>\n",
       "      <td>0.466396</td>\n",
       "      <td>0.471259</td>\n",
       "      <td>0.466997</td>\n",
       "      <td>0.455071</td>\n",
       "      <td>0.472424</td>\n",
       "      <td>0.472527</td>\n",
       "      <td>0.471051</td>\n",
       "      <td>0.330121</td>\n",
       "      <td>0.471331</td>\n",
       "      <td>...</td>\n",
       "      <td>-0.115283</td>\n",
       "      <td>-0.136426</td>\n",
       "      <td>-0.059105</td>\n",
       "      <td>-0.103667</td>\n",
       "      <td>-0.124793</td>\n",
       "      <td>-0.136684</td>\n",
       "      <td>-0.079189</td>\n",
       "      <td>-0.117896</td>\n",
       "      <td>-0.131313</td>\n",
       "      <td>-0.137909</td>\n",
       "    </tr>\n",
       "    <tr>\n",
       "      <th>2005802640</th>\n",
       "      <td>36</td>\n",
       "      <td>0.601450</td>\n",
       "      <td>0.592382</td>\n",
       "      <td>0.592106</td>\n",
       "      <td>0.578084</td>\n",
       "      <td>0.591811</td>\n",
       "      <td>0.590698</td>\n",
       "      <td>0.587382</td>\n",
       "      <td>0.490032</td>\n",
       "      <td>0.584414</td>\n",
       "      <td>...</td>\n",
       "      <td>NaN</td>\n",
       "      <td>NaN</td>\n",
       "      <td>NaN</td>\n",
       "      <td>NaN</td>\n",
       "      <td>NaN</td>\n",
       "      <td>NaN</td>\n",
       "      <td>NaN</td>\n",
       "      <td>NaN</td>\n",
       "      <td>NaN</td>\n",
       "      <td>NaN</td>\n",
       "    </tr>\n",
       "    <tr>\n",
       "      <th>1984822205</th>\n",
       "      <td>6</td>\n",
       "      <td>0.684869</td>\n",
       "      <td>0.672740</td>\n",
       "      <td>0.679165</td>\n",
       "      <td>0.659357</td>\n",
       "      <td>0.671088</td>\n",
       "      <td>0.671264</td>\n",
       "      <td>0.673862</td>\n",
       "      <td>0.574964</td>\n",
       "      <td>0.673281</td>\n",
       "      <td>...</td>\n",
       "      <td>-0.128980</td>\n",
       "      <td>-0.150374</td>\n",
       "      <td>-0.076840</td>\n",
       "      <td>-0.120516</td>\n",
       "      <td>-0.139159</td>\n",
       "      <td>-0.146679</td>\n",
       "      <td>-0.095557</td>\n",
       "      <td>-0.133389</td>\n",
       "      <td>-0.146541</td>\n",
       "      <td>-0.152953</td>\n",
       "    </tr>\n",
       "    <tr>\n",
       "      <th>1981135706</th>\n",
       "      <td>69</td>\n",
       "      <td>0.287177</td>\n",
       "      <td>0.279451</td>\n",
       "      <td>0.284275</td>\n",
       "      <td>0.262218</td>\n",
       "      <td>0.277224</td>\n",
       "      <td>0.275486</td>\n",
       "      <td>0.272608</td>\n",
       "      <td>0.167537</td>\n",
       "      <td>0.269175</td>\n",
       "      <td>...</td>\n",
       "      <td>NaN</td>\n",
       "      <td>NaN</td>\n",
       "      <td>NaN</td>\n",
       "      <td>NaN</td>\n",
       "      <td>NaN</td>\n",
       "      <td>NaN</td>\n",
       "      <td>NaN</td>\n",
       "      <td>NaN</td>\n",
       "      <td>NaN</td>\n",
       "      <td>NaN</td>\n",
       "    </tr>\n",
       "    <tr>\n",
       "      <th>1993145713</th>\n",
       "      <td>62</td>\n",
       "      <td>0.678040</td>\n",
       "      <td>0.678271</td>\n",
       "      <td>0.679028</td>\n",
       "      <td>0.674818</td>\n",
       "      <td>0.680904</td>\n",
       "      <td>0.685969</td>\n",
       "      <td>0.699280</td>\n",
       "      <td>0.581530</td>\n",
       "      <td>0.707013</td>\n",
       "      <td>...</td>\n",
       "      <td>-0.179901</td>\n",
       "      <td>-0.168911</td>\n",
       "      <td>-0.108286</td>\n",
       "      <td>-0.190325</td>\n",
       "      <td>-0.166965</td>\n",
       "      <td>-0.133106</td>\n",
       "      <td>-0.142954</td>\n",
       "      <td>-0.191276</td>\n",
       "      <td>-0.172816</td>\n",
       "      <td>-0.148198</td>\n",
       "    </tr>\n",
       "    <tr>\n",
       "      <th>1989094153</th>\n",
       "      <td>49</td>\n",
       "      <td>0.742046</td>\n",
       "      <td>0.750578</td>\n",
       "      <td>0.746951</td>\n",
       "      <td>0.753730</td>\n",
       "      <td>0.756503</td>\n",
       "      <td>0.765601</td>\n",
       "      <td>0.788172</td>\n",
       "      <td>0.637316</td>\n",
       "      <td>0.804710</td>\n",
       "      <td>...</td>\n",
       "      <td>NaN</td>\n",
       "      <td>NaN</td>\n",
       "      <td>NaN</td>\n",
       "      <td>NaN</td>\n",
       "      <td>NaN</td>\n",
       "      <td>NaN</td>\n",
       "      <td>NaN</td>\n",
       "      <td>NaN</td>\n",
       "      <td>NaN</td>\n",
       "      <td>NaN</td>\n",
       "    </tr>\n",
       "    <tr>\n",
       "      <th>1978310693</th>\n",
       "      <td>41</td>\n",
       "      <td>0.471180</td>\n",
       "      <td>0.487329</td>\n",
       "      <td>0.490902</td>\n",
       "      <td>0.473901</td>\n",
       "      <td>0.486561</td>\n",
       "      <td>0.487164</td>\n",
       "      <td>0.489936</td>\n",
       "      <td>0.376228</td>\n",
       "      <td>0.489922</td>\n",
       "      <td>...</td>\n",
       "      <td>-0.145894</td>\n",
       "      <td>-0.160957</td>\n",
       "      <td>-0.069374</td>\n",
       "      <td>-0.128247</td>\n",
       "      <td>-0.133705</td>\n",
       "      <td>-0.127978</td>\n",
       "      <td>-0.092267</td>\n",
       "      <td>-0.129594</td>\n",
       "      <td>-0.123894</td>\n",
       "      <td>-0.113920</td>\n",
       "    </tr>\n",
       "  </tbody>\n",
       "</table>\n",
       "<p>10 rows × 1630 columns</p>\n",
       "</div>"
      ],
      "text/plain": [
       "             frame  x_face_0  x_face_1  x_face_2  x_face_3  x_face_4  \\\n",
       "sequence_id                                                            \n",
       "2006628912      58  0.370001  0.361797  0.366255  0.351666  0.361647   \n",
       "1983194546     131  0.341312  0.341534  0.341007  0.317367  0.339826   \n",
       "1979407532     121  0.556440  0.561206  0.558688  0.554106  0.563067   \n",
       "1989722281      77  0.466396  0.471259  0.466997  0.455071  0.472424   \n",
       "2005802640      36  0.601450  0.592382  0.592106  0.578084  0.591811   \n",
       "1984822205       6  0.684869  0.672740  0.679165  0.659357  0.671088   \n",
       "1981135706      69  0.287177  0.279451  0.284275  0.262218  0.277224   \n",
       "1993145713      62  0.678040  0.678271  0.679028  0.674818  0.680904   \n",
       "1989094153      49  0.742046  0.750578  0.746951  0.753730  0.756503   \n",
       "1978310693      41  0.471180  0.487329  0.490902  0.473901  0.486561   \n",
       "\n",
       "             x_face_5  x_face_6  x_face_7  x_face_8  ...  z_right_hand_11  \\\n",
       "sequence_id                                          ...                    \n",
       "2006628912   0.363589  0.370067  0.268139  0.372778  ...              NaN   \n",
       "1983194546   0.336314  0.326607  0.196890  0.320492  ...              NaN   \n",
       "1979407532   0.565347  0.570429  0.468345  0.574425  ...              NaN   \n",
       "1989722281   0.472527  0.471051  0.330121  0.471331  ...        -0.115283   \n",
       "2005802640   0.590698  0.587382  0.490032  0.584414  ...              NaN   \n",
       "1984822205   0.671264  0.673862  0.574964  0.673281  ...        -0.128980   \n",
       "1981135706   0.275486  0.272608  0.167537  0.269175  ...              NaN   \n",
       "1993145713   0.685969  0.699280  0.581530  0.707013  ...        -0.179901   \n",
       "1989094153   0.765601  0.788172  0.637316  0.804710  ...              NaN   \n",
       "1978310693   0.487164  0.489936  0.376228  0.489922  ...        -0.145894   \n",
       "\n",
       "             z_right_hand_12  z_right_hand_13  z_right_hand_14  \\\n",
       "sequence_id                                                      \n",
       "2006628912               NaN              NaN              NaN   \n",
       "1983194546               NaN              NaN              NaN   \n",
       "1979407532               NaN              NaN              NaN   \n",
       "1989722281         -0.136426        -0.059105        -0.103667   \n",
       "2005802640               NaN              NaN              NaN   \n",
       "1984822205         -0.150374        -0.076840        -0.120516   \n",
       "1981135706               NaN              NaN              NaN   \n",
       "1993145713         -0.168911        -0.108286        -0.190325   \n",
       "1989094153               NaN              NaN              NaN   \n",
       "1978310693         -0.160957        -0.069374        -0.128247   \n",
       "\n",
       "             z_right_hand_15  z_right_hand_16  z_right_hand_17  \\\n",
       "sequence_id                                                      \n",
       "2006628912               NaN              NaN              NaN   \n",
       "1983194546               NaN              NaN              NaN   \n",
       "1979407532               NaN              NaN              NaN   \n",
       "1989722281         -0.124793        -0.136684        -0.079189   \n",
       "2005802640               NaN              NaN              NaN   \n",
       "1984822205         -0.139159        -0.146679        -0.095557   \n",
       "1981135706               NaN              NaN              NaN   \n",
       "1993145713         -0.166965        -0.133106        -0.142954   \n",
       "1989094153               NaN              NaN              NaN   \n",
       "1978310693         -0.133705        -0.127978        -0.092267   \n",
       "\n",
       "             z_right_hand_18  z_right_hand_19  z_right_hand_20  \n",
       "sequence_id                                                     \n",
       "2006628912               NaN              NaN              NaN  \n",
       "1983194546               NaN              NaN              NaN  \n",
       "1979407532               NaN              NaN              NaN  \n",
       "1989722281         -0.117896        -0.131313        -0.137909  \n",
       "2005802640               NaN              NaN              NaN  \n",
       "1984822205         -0.133389        -0.146541        -0.152953  \n",
       "1981135706               NaN              NaN              NaN  \n",
       "1993145713         -0.191276        -0.172816        -0.148198  \n",
       "1989094153               NaN              NaN              NaN  \n",
       "1978310693         -0.129594        -0.123894        -0.113920  \n",
       "\n",
       "[10 rows x 1630 columns]"
      ]
     },
     "execution_count": 18,
     "metadata": {},
     "output_type": "execute_result"
    }
   ],
   "source": [
    "print(f\"Sample shape = {sample.shape}\")\n",
    "sample.sample(10)"
   ]
  },
  {
   "cell_type": "code",
   "execution_count": 19,
   "id": "864b05aa",
   "metadata": {
    "execution": {
     "iopub.execute_input": "2023-06-21T09:54:18.319937Z",
     "iopub.status.busy": "2023-06-21T09:54:18.319409Z",
     "iopub.status.idle": "2023-06-21T09:54:31.584782Z",
     "shell.execute_reply": "2023-06-21T09:54:31.583866Z"
    },
    "papermill": {
     "duration": 13.292919,
     "end_time": "2023-06-21T09:54:31.587336",
     "exception": false,
     "start_time": "2023-06-21T09:54:18.294417",
     "status": "completed"
    },
    "tags": []
   },
   "outputs": [
    {
     "data": {
      "text/html": [
       "<div>\n",
       "<style scoped>\n",
       "    .dataframe tbody tr th:only-of-type {\n",
       "        vertical-align: middle;\n",
       "    }\n",
       "\n",
       "    .dataframe tbody tr th {\n",
       "        vertical-align: top;\n",
       "    }\n",
       "\n",
       "    .dataframe thead th {\n",
       "        text-align: right;\n",
       "    }\n",
       "</style>\n",
       "<table border=\"1\" class=\"dataframe\">\n",
       "  <thead>\n",
       "    <tr style=\"text-align: right;\">\n",
       "      <th></th>\n",
       "      <th>frame</th>\n",
       "      <th>x_face_0</th>\n",
       "      <th>x_face_1</th>\n",
       "      <th>x_face_2</th>\n",
       "      <th>x_face_3</th>\n",
       "      <th>x_face_4</th>\n",
       "      <th>x_face_5</th>\n",
       "      <th>x_face_6</th>\n",
       "      <th>x_face_7</th>\n",
       "      <th>x_face_8</th>\n",
       "      <th>...</th>\n",
       "      <th>z_right_hand_11</th>\n",
       "      <th>z_right_hand_12</th>\n",
       "      <th>z_right_hand_13</th>\n",
       "      <th>z_right_hand_14</th>\n",
       "      <th>z_right_hand_15</th>\n",
       "      <th>z_right_hand_16</th>\n",
       "      <th>z_right_hand_17</th>\n",
       "      <th>z_right_hand_18</th>\n",
       "      <th>z_right_hand_19</th>\n",
       "      <th>z_right_hand_20</th>\n",
       "    </tr>\n",
       "  </thead>\n",
       "  <tbody>\n",
       "    <tr>\n",
       "      <th>count</th>\n",
       "      <td>161461.000000</td>\n",
       "      <td>160278.000000</td>\n",
       "      <td>160278.000000</td>\n",
       "      <td>160278.000000</td>\n",
       "      <td>160278.000000</td>\n",
       "      <td>160278.000000</td>\n",
       "      <td>160278.000000</td>\n",
       "      <td>160278.000000</td>\n",
       "      <td>160278.000000</td>\n",
       "      <td>160278.000000</td>\n",
       "      <td>...</td>\n",
       "      <td>73394.000000</td>\n",
       "      <td>73394.000000</td>\n",
       "      <td>73394.000000</td>\n",
       "      <td>73394.000000</td>\n",
       "      <td>73394.000000</td>\n",
       "      <td>73394.000000</td>\n",
       "      <td>73394.000000</td>\n",
       "      <td>73394.000000</td>\n",
       "      <td>73394.000000</td>\n",
       "      <td>73394.000000</td>\n",
       "    </tr>\n",
       "    <tr>\n",
       "      <th>mean</th>\n",
       "      <td>104.867541</td>\n",
       "      <td>0.554182</td>\n",
       "      <td>0.548478</td>\n",
       "      <td>0.551414</td>\n",
       "      <td>0.536308</td>\n",
       "      <td>0.548015</td>\n",
       "      <td>0.548732</td>\n",
       "      <td>0.551513</td>\n",
       "      <td>0.444876</td>\n",
       "      <td>0.551947</td>\n",
       "      <td>...</td>\n",
       "      <td>-0.135173</td>\n",
       "      <td>-0.144074</td>\n",
       "      <td>-0.067872</td>\n",
       "      <td>-0.128156</td>\n",
       "      <td>-0.138056</td>\n",
       "      <td>-0.131727</td>\n",
       "      <td>-0.086140</td>\n",
       "      <td>-0.131659</td>\n",
       "      <td>-0.135321</td>\n",
       "      <td>-0.128832</td>\n",
       "    </tr>\n",
       "    <tr>\n",
       "      <th>std</th>\n",
       "      <td>86.207191</td>\n",
       "      <td>0.129534</td>\n",
       "      <td>0.126287</td>\n",
       "      <td>0.128008</td>\n",
       "      <td>0.127805</td>\n",
       "      <td>0.126163</td>\n",
       "      <td>0.126821</td>\n",
       "      <td>0.129227</td>\n",
       "      <td>0.134529</td>\n",
       "      <td>0.130194</td>\n",
       "      <td>...</td>\n",
       "      <td>0.070175</td>\n",
       "      <td>0.076910</td>\n",
       "      <td>0.046918</td>\n",
       "      <td>0.062506</td>\n",
       "      <td>0.067768</td>\n",
       "      <td>0.074496</td>\n",
       "      <td>0.049549</td>\n",
       "      <td>0.061519</td>\n",
       "      <td>0.066956</td>\n",
       "      <td>0.073019</td>\n",
       "    </tr>\n",
       "    <tr>\n",
       "      <th>min</th>\n",
       "      <td>0.000000</td>\n",
       "      <td>0.103906</td>\n",
       "      <td>0.107426</td>\n",
       "      <td>0.106770</td>\n",
       "      <td>0.087026</td>\n",
       "      <td>0.106714</td>\n",
       "      <td>0.104606</td>\n",
       "      <td>0.097967</td>\n",
       "      <td>-0.068946</td>\n",
       "      <td>0.085629</td>\n",
       "      <td>...</td>\n",
       "      <td>-0.804502</td>\n",
       "      <td>-0.911767</td>\n",
       "      <td>-0.452172</td>\n",
       "      <td>-0.646407</td>\n",
       "      <td>-0.789027</td>\n",
       "      <td>-0.892902</td>\n",
       "      <td>-0.471836</td>\n",
       "      <td>-0.653871</td>\n",
       "      <td>-0.763084</td>\n",
       "      <td>-0.848687</td>\n",
       "    </tr>\n",
       "    <tr>\n",
       "      <th>25%</th>\n",
       "      <td>41.000000</td>\n",
       "      <td>0.489872</td>\n",
       "      <td>0.485121</td>\n",
       "      <td>0.487680</td>\n",
       "      <td>0.472735</td>\n",
       "      <td>0.484261</td>\n",
       "      <td>0.484653</td>\n",
       "      <td>0.486007</td>\n",
       "      <td>0.381312</td>\n",
       "      <td>0.485465</td>\n",
       "      <td>...</td>\n",
       "      <td>-0.166090</td>\n",
       "      <td>-0.177454</td>\n",
       "      <td>-0.088966</td>\n",
       "      <td>-0.157679</td>\n",
       "      <td>-0.169352</td>\n",
       "      <td>-0.165617</td>\n",
       "      <td>-0.109835</td>\n",
       "      <td>-0.161745</td>\n",
       "      <td>-0.167367</td>\n",
       "      <td>-0.163408</td>\n",
       "    </tr>\n",
       "    <tr>\n",
       "      <th>50%</th>\n",
       "      <td>86.000000</td>\n",
       "      <td>0.572730</td>\n",
       "      <td>0.566025</td>\n",
       "      <td>0.569351</td>\n",
       "      <td>0.554663</td>\n",
       "      <td>0.565580</td>\n",
       "      <td>0.566387</td>\n",
       "      <td>0.569752</td>\n",
       "      <td>0.468610</td>\n",
       "      <td>0.570553</td>\n",
       "      <td>...</td>\n",
       "      <td>-0.121772</td>\n",
       "      <td>-0.129739</td>\n",
       "      <td>-0.058184</td>\n",
       "      <td>-0.117250</td>\n",
       "      <td>-0.125355</td>\n",
       "      <td>-0.118194</td>\n",
       "      <td>-0.076272</td>\n",
       "      <td>-0.120762</td>\n",
       "      <td>-0.123404</td>\n",
       "      <td>-0.116560</td>\n",
       "    </tr>\n",
       "    <tr>\n",
       "      <th>75%</th>\n",
       "      <td>146.000000</td>\n",
       "      <td>0.639833</td>\n",
       "      <td>0.630259</td>\n",
       "      <td>0.635003</td>\n",
       "      <td>0.619101</td>\n",
       "      <td>0.629602</td>\n",
       "      <td>0.631083</td>\n",
       "      <td>0.636369</td>\n",
       "      <td>0.533060</td>\n",
       "      <td>0.637612</td>\n",
       "      <td>...</td>\n",
       "      <td>-0.089064</td>\n",
       "      <td>-0.092906</td>\n",
       "      <td>-0.036033</td>\n",
       "      <td>-0.086171</td>\n",
       "      <td>-0.092268</td>\n",
       "      <td>-0.080486</td>\n",
       "      <td>-0.051808</td>\n",
       "      <td>-0.089323</td>\n",
       "      <td>-0.089033</td>\n",
       "      <td>-0.077901</td>\n",
       "    </tr>\n",
       "    <tr>\n",
       "      <th>max</th>\n",
       "      <td>750.000000</td>\n",
       "      <td>1.022021</td>\n",
       "      <td>1.026810</td>\n",
       "      <td>1.023538</td>\n",
       "      <td>0.997192</td>\n",
       "      <td>1.024715</td>\n",
       "      <td>1.018555</td>\n",
       "      <td>1.002975</td>\n",
       "      <td>0.871772</td>\n",
       "      <td>1.005253</td>\n",
       "      <td>...</td>\n",
       "      <td>0.253719</td>\n",
       "      <td>0.281694</td>\n",
       "      <td>0.152119</td>\n",
       "      <td>0.191191</td>\n",
       "      <td>0.229842</td>\n",
       "      <td>0.270752</td>\n",
       "      <td>0.139569</td>\n",
       "      <td>0.167341</td>\n",
       "      <td>0.215793</td>\n",
       "      <td>0.253798</td>\n",
       "    </tr>\n",
       "  </tbody>\n",
       "</table>\n",
       "<p>8 rows × 1630 columns</p>\n",
       "</div>"
      ],
      "text/plain": [
       "               frame       x_face_0       x_face_1       x_face_2  \\\n",
       "count  161461.000000  160278.000000  160278.000000  160278.000000   \n",
       "mean      104.867541       0.554182       0.548478       0.551414   \n",
       "std        86.207191       0.129534       0.126287       0.128008   \n",
       "min         0.000000       0.103906       0.107426       0.106770   \n",
       "25%        41.000000       0.489872       0.485121       0.487680   \n",
       "50%        86.000000       0.572730       0.566025       0.569351   \n",
       "75%       146.000000       0.639833       0.630259       0.635003   \n",
       "max       750.000000       1.022021       1.026810       1.023538   \n",
       "\n",
       "            x_face_3       x_face_4       x_face_5       x_face_6  \\\n",
       "count  160278.000000  160278.000000  160278.000000  160278.000000   \n",
       "mean        0.536308       0.548015       0.548732       0.551513   \n",
       "std         0.127805       0.126163       0.126821       0.129227   \n",
       "min         0.087026       0.106714       0.104606       0.097967   \n",
       "25%         0.472735       0.484261       0.484653       0.486007   \n",
       "50%         0.554663       0.565580       0.566387       0.569752   \n",
       "75%         0.619101       0.629602       0.631083       0.636369   \n",
       "max         0.997192       1.024715       1.018555       1.002975   \n",
       "\n",
       "            x_face_7       x_face_8  ...  z_right_hand_11  z_right_hand_12  \\\n",
       "count  160278.000000  160278.000000  ...     73394.000000     73394.000000   \n",
       "mean        0.444876       0.551947  ...        -0.135173        -0.144074   \n",
       "std         0.134529       0.130194  ...         0.070175         0.076910   \n",
       "min        -0.068946       0.085629  ...        -0.804502        -0.911767   \n",
       "25%         0.381312       0.485465  ...        -0.166090        -0.177454   \n",
       "50%         0.468610       0.570553  ...        -0.121772        -0.129739   \n",
       "75%         0.533060       0.637612  ...        -0.089064        -0.092906   \n",
       "max         0.871772       1.005253  ...         0.253719         0.281694   \n",
       "\n",
       "       z_right_hand_13  z_right_hand_14  z_right_hand_15  z_right_hand_16  \\\n",
       "count     73394.000000     73394.000000     73394.000000     73394.000000   \n",
       "mean         -0.067872        -0.128156        -0.138056        -0.131727   \n",
       "std           0.046918         0.062506         0.067768         0.074496   \n",
       "min          -0.452172        -0.646407        -0.789027        -0.892902   \n",
       "25%          -0.088966        -0.157679        -0.169352        -0.165617   \n",
       "50%          -0.058184        -0.117250        -0.125355        -0.118194   \n",
       "75%          -0.036033        -0.086171        -0.092268        -0.080486   \n",
       "max           0.152119         0.191191         0.229842         0.270752   \n",
       "\n",
       "       z_right_hand_17  z_right_hand_18  z_right_hand_19  z_right_hand_20  \n",
       "count     73394.000000     73394.000000     73394.000000     73394.000000  \n",
       "mean         -0.086140        -0.131659        -0.135321        -0.128832  \n",
       "std           0.049549         0.061519         0.066956         0.073019  \n",
       "min          -0.471836        -0.653871        -0.763084        -0.848687  \n",
       "25%          -0.109835        -0.161745        -0.167367        -0.163408  \n",
       "50%          -0.076272        -0.120762        -0.123404        -0.116560  \n",
       "75%          -0.051808        -0.089323        -0.089033        -0.077901  \n",
       "max           0.139569         0.167341         0.215793         0.253798  \n",
       "\n",
       "[8 rows x 1630 columns]"
      ]
     },
     "execution_count": 19,
     "metadata": {},
     "output_type": "execute_result"
    }
   ],
   "source": [
    "sample.describe()"
   ]
  },
  {
   "cell_type": "markdown",
   "id": "a748f167",
   "metadata": {
    "papermill": {
     "duration": 0.025,
     "end_time": "2023-06-21T09:54:31.636396",
     "exception": false,
     "start_time": "2023-06-21T09:54:31.611396",
     "status": "completed"
    },
    "tags": []
   },
   "source": [
    "MULTI_HAND_LANDMARKS Collection of detected/tracked hands, where each hand is represented as a list of 21 hand landmarks and each landmark is composed of x, y and z. x and y are normalized to [0.0, 1.0] by the image width and height respectively. z represents the landmark depth with the depth at the wrist being the origin, and the smaller the value the closer the landmark is to the camera. The magnitude of z uses roughly the same scale as x.\n",
    "\n",
    "Inaddition, there are few negative coordinates above. negative values are not expected for x and y perhaps. It is also important to note that for a good chunk of the video either or both hands will not be visible or in other words, will not have any landmark data.\n",
    "\n",
    "Lets extract the columns and check the nans in either hands"
   ]
  },
  {
   "cell_type": "code",
   "execution_count": 20,
   "id": "a81c0b2a",
   "metadata": {
    "execution": {
     "iopub.execute_input": "2023-06-21T09:54:31.687537Z",
     "iopub.status.busy": "2023-06-21T09:54:31.686386Z",
     "iopub.status.idle": "2023-06-21T09:54:31.694397Z",
     "shell.execute_reply": "2023-06-21T09:54:31.693523Z"
    },
    "papermill": {
     "duration": 0.03632,
     "end_time": "2023-06-21T09:54:31.696997",
     "exception": false,
     "start_time": "2023-06-21T09:54:31.660677",
     "status": "completed"
    },
    "tags": []
   },
   "outputs": [],
   "source": [
    "def get_cols(df, words_pos, words_neg=[], ret_names=True):\n",
    "    cols = []\n",
    "    names = []\n",
    "    for col in df.columns:\n",
    "        # Check if column name contains all words\n",
    "        if all([w in col for w in words_pos]) and all([w not in col for w in words_neg]):\n",
    "            cols.append(df[col])  # Append the entire column to the list\n",
    "            names.append(col)\n",
    "\n",
    "    if ret_names:\n",
    "        return cols, names\n",
    "    else:\n",
    "        return cols"
   ]
  },
  {
   "cell_type": "code",
   "execution_count": 21,
   "id": "95f72ee3",
   "metadata": {
    "execution": {
     "iopub.execute_input": "2023-06-21T09:54:31.747616Z",
     "iopub.status.busy": "2023-06-21T09:54:31.747186Z",
     "iopub.status.idle": "2023-06-21T09:54:31.760814Z",
     "shell.execute_reply": "2023-06-21T09:54:31.759903Z"
    },
    "papermill": {
     "duration": 0.041772,
     "end_time": "2023-06-21T09:54:31.763481",
     "exception": false,
     "start_time": "2023-06-21T09:54:31.721709",
     "status": "completed"
    },
    "tags": []
   },
   "outputs": [
    {
     "name": "stdout",
     "output_type": "stream",
     "text": [
      "Total number of columns: 85\n"
     ]
    }
   ],
   "source": [
    "# Landmark Indices for Left/Right hand without z axis in raw data\n",
    "LH_Index, LEFT_HAND_NAME = get_cols(sample, ['left_hand'], ['z'])\n",
    "RH_Index,RIGHT_HAND_NAME = get_cols(sample, ['right_hand'], ['z'])\n",
    "#RIGHT_HAND_NAMES0.insert(0, \"frame\")\n",
    "LEFT_HAND_NAME.insert(0, \"frame\")\n",
    "COLUMNS = np.concatenate((LEFT_HAND_NAME, RIGHT_HAND_NAME))\n",
    "\n",
    "N_COLS0 = len(COLUMNS)\n",
    "\n",
    "print(f'Total number of columns: {N_COLS0}')"
   ]
  },
  {
   "cell_type": "code",
   "execution_count": 22,
   "id": "465a0561",
   "metadata": {
    "execution": {
     "iopub.execute_input": "2023-06-21T09:54:31.813478Z",
     "iopub.status.busy": "2023-06-21T09:54:31.813054Z",
     "iopub.status.idle": "2023-06-21T09:54:31.884430Z",
     "shell.execute_reply": "2023-06-21T09:54:31.883045Z"
    },
    "papermill": {
     "duration": 0.099384,
     "end_time": "2023-06-21T09:54:31.886957",
     "exception": false,
     "start_time": "2023-06-21T09:54:31.787573",
     "status": "completed"
    },
    "tags": []
   },
   "outputs": [
    {
     "data": {
      "text/html": [
       "<div>\n",
       "<style scoped>\n",
       "    .dataframe tbody tr th:only-of-type {\n",
       "        vertical-align: middle;\n",
       "    }\n",
       "\n",
       "    .dataframe tbody tr th {\n",
       "        vertical-align: top;\n",
       "    }\n",
       "\n",
       "    .dataframe thead th {\n",
       "        text-align: right;\n",
       "    }\n",
       "</style>\n",
       "<table border=\"1\" class=\"dataframe\">\n",
       "  <thead>\n",
       "    <tr style=\"text-align: right;\">\n",
       "      <th></th>\n",
       "      <th>x_right_hand_0</th>\n",
       "      <th>x_right_hand_1</th>\n",
       "      <th>x_right_hand_2</th>\n",
       "      <th>x_right_hand_3</th>\n",
       "      <th>x_right_hand_4</th>\n",
       "      <th>x_right_hand_5</th>\n",
       "      <th>x_right_hand_6</th>\n",
       "      <th>x_right_hand_7</th>\n",
       "      <th>x_right_hand_8</th>\n",
       "      <th>x_right_hand_9</th>\n",
       "      <th>...</th>\n",
       "      <th>y_right_hand_11</th>\n",
       "      <th>y_right_hand_12</th>\n",
       "      <th>y_right_hand_13</th>\n",
       "      <th>y_right_hand_14</th>\n",
       "      <th>y_right_hand_15</th>\n",
       "      <th>y_right_hand_16</th>\n",
       "      <th>y_right_hand_17</th>\n",
       "      <th>y_right_hand_18</th>\n",
       "      <th>y_right_hand_19</th>\n",
       "      <th>y_right_hand_20</th>\n",
       "    </tr>\n",
       "    <tr>\n",
       "      <th>sequence_id</th>\n",
       "      <th></th>\n",
       "      <th></th>\n",
       "      <th></th>\n",
       "      <th></th>\n",
       "      <th></th>\n",
       "      <th></th>\n",
       "      <th></th>\n",
       "      <th></th>\n",
       "      <th></th>\n",
       "      <th></th>\n",
       "      <th></th>\n",
       "      <th></th>\n",
       "      <th></th>\n",
       "      <th></th>\n",
       "      <th></th>\n",
       "      <th></th>\n",
       "      <th></th>\n",
       "      <th></th>\n",
       "      <th></th>\n",
       "      <th></th>\n",
       "      <th></th>\n",
       "    </tr>\n",
       "  </thead>\n",
       "  <tbody>\n",
       "    <tr>\n",
       "      <th>1975433633</th>\n",
       "      <td>0.223376</td>\n",
       "      <td>0.314379</td>\n",
       "      <td>0.381249</td>\n",
       "      <td>0.422019</td>\n",
       "      <td>0.463780</td>\n",
       "      <td>0.349893</td>\n",
       "      <td>0.390788</td>\n",
       "      <td>0.424455</td>\n",
       "      <td>0.453150</td>\n",
       "      <td>0.276916</td>\n",
       "      <td>...</td>\n",
       "      <td>0.515195</td>\n",
       "      <td>0.482174</td>\n",
       "      <td>0.626820</td>\n",
       "      <td>0.566435</td>\n",
       "      <td>0.522641</td>\n",
       "      <td>0.485579</td>\n",
       "      <td>0.653875</td>\n",
       "      <td>0.612873</td>\n",
       "      <td>0.584119</td>\n",
       "      <td>0.557135</td>\n",
       "    </tr>\n",
       "    <tr>\n",
       "      <th>1975433633</th>\n",
       "      <td>NaN</td>\n",
       "      <td>NaN</td>\n",
       "      <td>NaN</td>\n",
       "      <td>NaN</td>\n",
       "      <td>NaN</td>\n",
       "      <td>NaN</td>\n",
       "      <td>NaN</td>\n",
       "      <td>NaN</td>\n",
       "      <td>NaN</td>\n",
       "      <td>NaN</td>\n",
       "      <td>...</td>\n",
       "      <td>NaN</td>\n",
       "      <td>NaN</td>\n",
       "      <td>NaN</td>\n",
       "      <td>NaN</td>\n",
       "      <td>NaN</td>\n",
       "      <td>NaN</td>\n",
       "      <td>NaN</td>\n",
       "      <td>NaN</td>\n",
       "      <td>NaN</td>\n",
       "      <td>NaN</td>\n",
       "    </tr>\n",
       "    <tr>\n",
       "      <th>1975433633</th>\n",
       "      <td>0.229610</td>\n",
       "      <td>0.323558</td>\n",
       "      <td>0.391224</td>\n",
       "      <td>0.428452</td>\n",
       "      <td>0.472937</td>\n",
       "      <td>0.348827</td>\n",
       "      <td>0.397519</td>\n",
       "      <td>0.435018</td>\n",
       "      <td>0.458869</td>\n",
       "      <td>0.275968</td>\n",
       "      <td>...</td>\n",
       "      <td>0.506925</td>\n",
       "      <td>0.470164</td>\n",
       "      <td>0.622517</td>\n",
       "      <td>0.556892</td>\n",
       "      <td>0.511068</td>\n",
       "      <td>0.470564</td>\n",
       "      <td>0.648757</td>\n",
       "      <td>0.601616</td>\n",
       "      <td>0.567502</td>\n",
       "      <td>0.535259</td>\n",
       "    </tr>\n",
       "    <tr>\n",
       "      <th>1975433633</th>\n",
       "      <td>0.233477</td>\n",
       "      <td>0.324557</td>\n",
       "      <td>0.396712</td>\n",
       "      <td>0.433438</td>\n",
       "      <td>0.469773</td>\n",
       "      <td>0.347876</td>\n",
       "      <td>0.397283</td>\n",
       "      <td>0.439693</td>\n",
       "      <td>0.467815</td>\n",
       "      <td>0.277466</td>\n",
       "      <td>...</td>\n",
       "      <td>0.506720</td>\n",
       "      <td>0.469948</td>\n",
       "      <td>0.621060</td>\n",
       "      <td>0.556469</td>\n",
       "      <td>0.510893</td>\n",
       "      <td>0.470012</td>\n",
       "      <td>0.647568</td>\n",
       "      <td>0.599290</td>\n",
       "      <td>0.565760</td>\n",
       "      <td>0.533937</td>\n",
       "    </tr>\n",
       "    <tr>\n",
       "      <th>1975433633</th>\n",
       "      <td>NaN</td>\n",
       "      <td>NaN</td>\n",
       "      <td>NaN</td>\n",
       "      <td>NaN</td>\n",
       "      <td>NaN</td>\n",
       "      <td>NaN</td>\n",
       "      <td>NaN</td>\n",
       "      <td>NaN</td>\n",
       "      <td>NaN</td>\n",
       "      <td>NaN</td>\n",
       "      <td>...</td>\n",
       "      <td>NaN</td>\n",
       "      <td>NaN</td>\n",
       "      <td>NaN</td>\n",
       "      <td>NaN</td>\n",
       "      <td>NaN</td>\n",
       "      <td>NaN</td>\n",
       "      <td>NaN</td>\n",
       "      <td>NaN</td>\n",
       "      <td>NaN</td>\n",
       "      <td>NaN</td>\n",
       "    </tr>\n",
       "    <tr>\n",
       "      <th>...</th>\n",
       "      <td>...</td>\n",
       "      <td>...</td>\n",
       "      <td>...</td>\n",
       "      <td>...</td>\n",
       "      <td>...</td>\n",
       "      <td>...</td>\n",
       "      <td>...</td>\n",
       "      <td>...</td>\n",
       "      <td>...</td>\n",
       "      <td>...</td>\n",
       "      <td>...</td>\n",
       "      <td>...</td>\n",
       "      <td>...</td>\n",
       "      <td>...</td>\n",
       "      <td>...</td>\n",
       "      <td>...</td>\n",
       "      <td>...</td>\n",
       "      <td>...</td>\n",
       "      <td>...</td>\n",
       "      <td>...</td>\n",
       "      <td>...</td>\n",
       "    </tr>\n",
       "    <tr>\n",
       "      <th>2008677531</th>\n",
       "      <td>NaN</td>\n",
       "      <td>NaN</td>\n",
       "      <td>NaN</td>\n",
       "      <td>NaN</td>\n",
       "      <td>NaN</td>\n",
       "      <td>NaN</td>\n",
       "      <td>NaN</td>\n",
       "      <td>NaN</td>\n",
       "      <td>NaN</td>\n",
       "      <td>NaN</td>\n",
       "      <td>...</td>\n",
       "      <td>NaN</td>\n",
       "      <td>NaN</td>\n",
       "      <td>NaN</td>\n",
       "      <td>NaN</td>\n",
       "      <td>NaN</td>\n",
       "      <td>NaN</td>\n",
       "      <td>NaN</td>\n",
       "      <td>NaN</td>\n",
       "      <td>NaN</td>\n",
       "      <td>NaN</td>\n",
       "    </tr>\n",
       "    <tr>\n",
       "      <th>2008677531</th>\n",
       "      <td>NaN</td>\n",
       "      <td>NaN</td>\n",
       "      <td>NaN</td>\n",
       "      <td>NaN</td>\n",
       "      <td>NaN</td>\n",
       "      <td>NaN</td>\n",
       "      <td>NaN</td>\n",
       "      <td>NaN</td>\n",
       "      <td>NaN</td>\n",
       "      <td>NaN</td>\n",
       "      <td>...</td>\n",
       "      <td>NaN</td>\n",
       "      <td>NaN</td>\n",
       "      <td>NaN</td>\n",
       "      <td>NaN</td>\n",
       "      <td>NaN</td>\n",
       "      <td>NaN</td>\n",
       "      <td>NaN</td>\n",
       "      <td>NaN</td>\n",
       "      <td>NaN</td>\n",
       "      <td>NaN</td>\n",
       "    </tr>\n",
       "    <tr>\n",
       "      <th>2008677531</th>\n",
       "      <td>NaN</td>\n",
       "      <td>NaN</td>\n",
       "      <td>NaN</td>\n",
       "      <td>NaN</td>\n",
       "      <td>NaN</td>\n",
       "      <td>NaN</td>\n",
       "      <td>NaN</td>\n",
       "      <td>NaN</td>\n",
       "      <td>NaN</td>\n",
       "      <td>NaN</td>\n",
       "      <td>...</td>\n",
       "      <td>NaN</td>\n",
       "      <td>NaN</td>\n",
       "      <td>NaN</td>\n",
       "      <td>NaN</td>\n",
       "      <td>NaN</td>\n",
       "      <td>NaN</td>\n",
       "      <td>NaN</td>\n",
       "      <td>NaN</td>\n",
       "      <td>NaN</td>\n",
       "      <td>NaN</td>\n",
       "    </tr>\n",
       "    <tr>\n",
       "      <th>2008677531</th>\n",
       "      <td>NaN</td>\n",
       "      <td>NaN</td>\n",
       "      <td>NaN</td>\n",
       "      <td>NaN</td>\n",
       "      <td>NaN</td>\n",
       "      <td>NaN</td>\n",
       "      <td>NaN</td>\n",
       "      <td>NaN</td>\n",
       "      <td>NaN</td>\n",
       "      <td>NaN</td>\n",
       "      <td>...</td>\n",
       "      <td>NaN</td>\n",
       "      <td>NaN</td>\n",
       "      <td>NaN</td>\n",
       "      <td>NaN</td>\n",
       "      <td>NaN</td>\n",
       "      <td>NaN</td>\n",
       "      <td>NaN</td>\n",
       "      <td>NaN</td>\n",
       "      <td>NaN</td>\n",
       "      <td>NaN</td>\n",
       "    </tr>\n",
       "    <tr>\n",
       "      <th>2008677531</th>\n",
       "      <td>0.323304</td>\n",
       "      <td>0.415231</td>\n",
       "      <td>0.469232</td>\n",
       "      <td>0.475347</td>\n",
       "      <td>0.444052</td>\n",
       "      <td>0.442674</td>\n",
       "      <td>0.438893</td>\n",
       "      <td>0.422015</td>\n",
       "      <td>0.398837</td>\n",
       "      <td>0.364151</td>\n",
       "      <td>...</td>\n",
       "      <td>0.592776</td>\n",
       "      <td>0.557688</td>\n",
       "      <td>0.711368</td>\n",
       "      <td>0.704414</td>\n",
       "      <td>0.749628</td>\n",
       "      <td>0.778125</td>\n",
       "      <td>0.730850</td>\n",
       "      <td>0.731348</td>\n",
       "      <td>0.766695</td>\n",
       "      <td>0.792661</td>\n",
       "    </tr>\n",
       "  </tbody>\n",
       "</table>\n",
       "<p>161461 rows × 42 columns</p>\n",
       "</div>"
      ],
      "text/plain": [
       "             x_right_hand_0  x_right_hand_1  x_right_hand_2  x_right_hand_3  \\\n",
       "sequence_id                                                                   \n",
       "1975433633         0.223376        0.314379        0.381249        0.422019   \n",
       "1975433633              NaN             NaN             NaN             NaN   \n",
       "1975433633         0.229610        0.323558        0.391224        0.428452   \n",
       "1975433633         0.233477        0.324557        0.396712        0.433438   \n",
       "1975433633              NaN             NaN             NaN             NaN   \n",
       "...                     ...             ...             ...             ...   \n",
       "2008677531              NaN             NaN             NaN             NaN   \n",
       "2008677531              NaN             NaN             NaN             NaN   \n",
       "2008677531              NaN             NaN             NaN             NaN   \n",
       "2008677531              NaN             NaN             NaN             NaN   \n",
       "2008677531         0.323304        0.415231        0.469232        0.475347   \n",
       "\n",
       "             x_right_hand_4  x_right_hand_5  x_right_hand_6  x_right_hand_7  \\\n",
       "sequence_id                                                                   \n",
       "1975433633         0.463780        0.349893        0.390788        0.424455   \n",
       "1975433633              NaN             NaN             NaN             NaN   \n",
       "1975433633         0.472937        0.348827        0.397519        0.435018   \n",
       "1975433633         0.469773        0.347876        0.397283        0.439693   \n",
       "1975433633              NaN             NaN             NaN             NaN   \n",
       "...                     ...             ...             ...             ...   \n",
       "2008677531              NaN             NaN             NaN             NaN   \n",
       "2008677531              NaN             NaN             NaN             NaN   \n",
       "2008677531              NaN             NaN             NaN             NaN   \n",
       "2008677531              NaN             NaN             NaN             NaN   \n",
       "2008677531         0.444052        0.442674        0.438893        0.422015   \n",
       "\n",
       "             x_right_hand_8  x_right_hand_9  ...  y_right_hand_11  \\\n",
       "sequence_id                                  ...                    \n",
       "1975433633         0.453150        0.276916  ...         0.515195   \n",
       "1975433633              NaN             NaN  ...              NaN   \n",
       "1975433633         0.458869        0.275968  ...         0.506925   \n",
       "1975433633         0.467815        0.277466  ...         0.506720   \n",
       "1975433633              NaN             NaN  ...              NaN   \n",
       "...                     ...             ...  ...              ...   \n",
       "2008677531              NaN             NaN  ...              NaN   \n",
       "2008677531              NaN             NaN  ...              NaN   \n",
       "2008677531              NaN             NaN  ...              NaN   \n",
       "2008677531              NaN             NaN  ...              NaN   \n",
       "2008677531         0.398837        0.364151  ...         0.592776   \n",
       "\n",
       "             y_right_hand_12  y_right_hand_13  y_right_hand_14  \\\n",
       "sequence_id                                                      \n",
       "1975433633          0.482174         0.626820         0.566435   \n",
       "1975433633               NaN              NaN              NaN   \n",
       "1975433633          0.470164         0.622517         0.556892   \n",
       "1975433633          0.469948         0.621060         0.556469   \n",
       "1975433633               NaN              NaN              NaN   \n",
       "...                      ...              ...              ...   \n",
       "2008677531               NaN              NaN              NaN   \n",
       "2008677531               NaN              NaN              NaN   \n",
       "2008677531               NaN              NaN              NaN   \n",
       "2008677531               NaN              NaN              NaN   \n",
       "2008677531          0.557688         0.711368         0.704414   \n",
       "\n",
       "             y_right_hand_15  y_right_hand_16  y_right_hand_17  \\\n",
       "sequence_id                                                      \n",
       "1975433633          0.522641         0.485579         0.653875   \n",
       "1975433633               NaN              NaN              NaN   \n",
       "1975433633          0.511068         0.470564         0.648757   \n",
       "1975433633          0.510893         0.470012         0.647568   \n",
       "1975433633               NaN              NaN              NaN   \n",
       "...                      ...              ...              ...   \n",
       "2008677531               NaN              NaN              NaN   \n",
       "2008677531               NaN              NaN              NaN   \n",
       "2008677531               NaN              NaN              NaN   \n",
       "2008677531               NaN              NaN              NaN   \n",
       "2008677531          0.749628         0.778125         0.730850   \n",
       "\n",
       "             y_right_hand_18  y_right_hand_19  y_right_hand_20  \n",
       "sequence_id                                                     \n",
       "1975433633          0.612873         0.584119         0.557135  \n",
       "1975433633               NaN              NaN              NaN  \n",
       "1975433633          0.601616         0.567502         0.535259  \n",
       "1975433633          0.599290         0.565760         0.533937  \n",
       "1975433633               NaN              NaN              NaN  \n",
       "...                      ...              ...              ...  \n",
       "2008677531               NaN              NaN              NaN  \n",
       "2008677531               NaN              NaN              NaN  \n",
       "2008677531               NaN              NaN              NaN  \n",
       "2008677531               NaN              NaN              NaN  \n",
       "2008677531          0.731348         0.766695         0.792661  \n",
       "\n",
       "[161461 rows x 42 columns]"
      ]
     },
     "execution_count": 22,
     "metadata": {},
     "output_type": "execute_result"
    }
   ],
   "source": [
    "RIGHT_HAND = sample.loc[:, RIGHT_HAND_NAME] \n",
    "LEFT_HAND = sample.loc[:, LEFT_HAND_NAME] \n",
    "RIGHT_HAND"
   ]
  },
  {
   "cell_type": "code",
   "execution_count": 23,
   "id": "7ee13f27",
   "metadata": {
    "execution": {
     "iopub.execute_input": "2023-06-21T09:54:31.938538Z",
     "iopub.status.busy": "2023-06-21T09:54:31.938112Z",
     "iopub.status.idle": "2023-06-21T09:54:31.945809Z",
     "shell.execute_reply": "2023-06-21T09:54:31.944370Z"
    },
    "papermill": {
     "duration": 0.036997,
     "end_time": "2023-06-21T09:54:31.948379",
     "exception": false,
     "start_time": "2023-06-21T09:54:31.911382",
     "status": "completed"
    },
    "tags": []
   },
   "outputs": [
    {
     "name": "stdout",
     "output_type": "stream",
     "text": [
      "Percentage of nulls in Left Hand data = 89.13 %\n",
      "Percentage of nulls in Right Hand data = 54.54 %\n"
     ]
    }
   ],
   "source": [
    "print(f\"Percentage of nulls in Left Hand data = {100*np.mean(LEFT_HAND['x_left_hand_0'].isnull()):.02f} %\")\n",
    "print(f\"Percentage of nulls in Right Hand data = {100*np.mean(RIGHT_HAND['x_right_hand_0'].isnull()):.02f} %\")"
   ]
  },
  {
   "cell_type": "markdown",
   "id": "af086c47",
   "metadata": {
    "papermill": {
     "duration": 0.024417,
     "end_time": "2023-06-21T09:54:31.997492",
     "exception": false,
     "start_time": "2023-06-21T09:54:31.973075",
     "status": "completed"
    },
    "tags": []
   },
   "source": [
    "# 3. Preprocessing Data "
   ]
  },
  {
   "cell_type": "code",
   "execution_count": 24,
   "id": "ad27cc28",
   "metadata": {
    "execution": {
     "iopub.execute_input": "2023-06-21T09:54:32.049496Z",
     "iopub.status.busy": "2023-06-21T09:54:32.049105Z",
     "iopub.status.idle": "2023-06-21T09:54:47.322246Z",
     "shell.execute_reply": "2023-06-21T09:54:47.321024Z"
    },
    "papermill": {
     "duration": 15.302691,
     "end_time": "2023-06-21T09:54:47.325472",
     "exception": false,
     "start_time": "2023-06-21T09:54:32.022781",
     "status": "completed"
    },
    "tags": []
   },
   "outputs": [],
   "source": [
    "sample = pd.read_parquet('/dataset/input/asl-fingerspelling/train_landmarks/1021040628.parquet')\n",
    "LANDMARK_FILES_DIR = \"/dataset/input/asl-fingerspelling/train_landmarks\"\n",
    "TRAIN_FILE = \"/dataset/input/asl-fingerspelling/train.csv\"\n",
    "label_map = json.load(open(\"/dataset/input/asl-fingerspelling/character_to_prediction_index.json\", \"r\"))"
   ]
  },
  {
   "cell_type": "code",
   "execution_count": 25,
   "id": "959bb25a",
   "metadata": {
    "execution": {
     "iopub.execute_input": "2023-06-21T09:54:47.376627Z",
     "iopub.status.busy": "2023-06-21T09:54:47.376201Z",
     "iopub.status.idle": "2023-06-21T09:54:47.384507Z",
     "shell.execute_reply": "2023-06-21T09:54:47.383338Z"
    },
    "papermill": {
     "duration": 0.036565,
     "end_time": "2023-06-21T09:54:47.386969",
     "exception": false,
     "start_time": "2023-06-21T09:54:47.350404",
     "status": "completed"
    },
    "tags": []
   },
   "outputs": [
    {
     "data": {
      "text/plain": [
       "59"
      ]
     },
     "execution_count": 25,
     "metadata": {},
     "output_type": "execute_result"
    }
   ],
   "source": [
    "len(label_map)"
   ]
  },
  {
   "cell_type": "markdown",
   "id": "ed3990e1",
   "metadata": {
    "papermill": {
     "duration": 0.025006,
     "end_time": "2023-06-21T09:54:47.437602",
     "exception": false,
     "start_time": "2023-06-21T09:54:47.412596",
     "status": "completed"
    },
    "tags": []
   },
   "source": [
    "So there are 59 characters in total in the vocabulary. :\n",
    "\n",
    "- alphabets a-z : total 26 characters\n",
    "- digits : 0-9 , 10 in total\n",
    "- The rest are special characters."
   ]
  },
  {
   "cell_type": "code",
   "execution_count": 26,
   "id": "5ef12c74",
   "metadata": {
    "execution": {
     "iopub.execute_input": "2023-06-21T09:54:47.489141Z",
     "iopub.status.busy": "2023-06-21T09:54:47.488740Z",
     "iopub.status.idle": "2023-06-21T09:54:47.503269Z",
     "shell.execute_reply": "2023-06-21T09:54:47.501937Z"
    },
    "papermill": {
     "duration": 0.043311,
     "end_time": "2023-06-21T09:54:47.505825",
     "exception": false,
     "start_time": "2023-06-21T09:54:47.462514",
     "status": "completed"
    },
    "tags": []
   },
   "outputs": [],
   "source": [
    "def reduce_mem_usage(df):\n",
    "    \"\"\" iterate through all the columns of a dataframe and modify the data type\n",
    "        to reduce memory usage.        \n",
    "    \"\"\"\n",
    "    #start_mem = df.memory_usage().sum() / 1024**2\n",
    "    #print('Memory usage of dataframe is {:.2f} MB'.format(start_mem))\n",
    "\n",
    "    for col in df.columns:\n",
    "        col_type = df[col].dtype\n",
    "\n",
    "        if col_type != object:\n",
    "            c_min = df[col].min()\n",
    "            c_max = df[col].max()\n",
    "            if str(col_type)[:3] == 'int':\n",
    "                if c_min > np.iinfo(np.int8).min and c_max < np.iinfo(np.int8).max:\n",
    "                    df[col] = df[col].astype(np.int8)\n",
    "                elif c_min > np.iinfo(np.int16).min and c_max < np.iinfo(np.int16).max:\n",
    "                    df[col] = df[col].astype(np.int16)\n",
    "                elif c_min > np.iinfo(np.int32).min and c_max < np.iinfo(np.int32).max:\n",
    "                    df[col] = df[col].astype(np.int32)\n",
    "                elif c_min > np.iinfo(np.int64).min and c_max < np.iinfo(np.int64).max:\n",
    "                    df[col] = df[col].astype(np.int64)  \n",
    "            else:\n",
    "                if c_min > np.finfo(np.float16).min and c_max < np.finfo(np.float16).max:\n",
    "                    df[col] = df[col].astype(np.float16)\n",
    "                elif c_min > np.finfo(np.float32).min and c_max < np.finfo(np.float32).max:\n",
    "                    df[col] = df[col].astype(np.float32)\n",
    "                else:\n",
    "                    df[col] = df[col].astype(np.float64)\n",
    "\n",
    "    return df"
   ]
  },
  {
   "cell_type": "code",
   "execution_count": 27,
   "id": "89700d93",
   "metadata": {
    "execution": {
     "iopub.execute_input": "2023-06-21T09:54:47.559791Z",
     "iopub.status.busy": "2023-06-21T09:54:47.559311Z",
     "iopub.status.idle": "2023-06-21T11:59:25.618477Z",
     "shell.execute_reply": "2023-06-21T11:59:25.612565Z"
    },
    "papermill": {
     "duration": 7478.09348,
     "end_time": "2023-06-21T11:59:25.624667",
     "exception": false,
     "start_time": "2023-06-21T09:54:47.531187",
     "status": "completed"
    },
    "tags": []
   },
   "outputs": [
    {
     "name": "stderr",
     "output_type": "stream",
     "text": [
      "100%|██████████| 67208/67208 [2:04:33<00:00,  8.99it/s]\n"
     ]
    },
    {
     "name": "stdout",
     "output_type": "stream",
     "text": [
      "Features tensor shape: (67208, 3258)\n",
      "Labels tensor shape: (67208, 30)\n"
     ]
    }
   ],
   "source": [
    "import multiprocessing as mp\n",
    "import pandas as pd\n",
    "import torch\n",
    "import numpy as np\n",
    "\n",
    "# Function to process a single parquet file\n",
    "def process_parquet(row):\n",
    "    path = os.path.join(\"/dataset/input/asl-fingerspelling\", row[1].path)\n",
    "    data_columns = COLUMNS\n",
    "    landmark_df = pd.read_parquet(path, columns=data_columns)\n",
    "\n",
    "    # Group the landmarks by sequence_id\n",
    "    grouped_landmarks = landmark_df.groupby('sequence_id')\n",
    "\n",
    "    # Initialize empty lists to store features and labels\n",
    "    features = []\n",
    "    labels = []\n",
    "\n",
    "    # Iterate over each sequence_id\n",
    "    for sequence_id, group in grouped_landmarks:\n",
    "        # Get the label for the sequence\n",
    "        phrase = df.loc[df['sequence_id'] == sequence_id, 'phrase'].iloc[0]\n",
    "\n",
    "        # Map each letter in the phrase using label_map\n",
    "        mapped_phrase = [letter for letter in phrase]\n",
    "        # Create a new Series with sequence and mapped_phrase\n",
    "        result_series = pd.DataFrame({'sequence_id': sequence_id, 'mapped_phrase': mapped_phrase}) \n",
    "        result_series['label'] = result_series['mapped_phrase'].map(label_map).astype(np.int8)  \n",
    "\n",
    "        # Convert the label Series to a list\n",
    "        #label_list = result_series['label'].tolist()\n",
    "\n",
    "        # Initialize an empty feature vector for the sequence\n",
    "        sequence_features = []\n",
    "        \n",
    "        # Iterate over each landmark index\n",
    "        for landmark_index in range(20):\n",
    "            # Generate feature names for x, y, z coordinates\n",
    "            x_feature = f'x_right_hand_{landmark_index}'\n",
    "            y_feature = f'y_right_hand_{landmark_index}'\n",
    "\n",
    "            # Get the x, y, z coordinates for the landmark\n",
    "            x = group[x_feature].values.astype(np.float16)\n",
    "            y = group[y_feature].values.astype(np.float16)\n",
    "\n",
    "            # Replace NaN values with 0\n",
    "            x[np.isnan(x)] = 0.0\n",
    "            y[np.isnan(y)] = 0.0\n",
    "                        \n",
    "            # Perform feature transformations or calculations\n",
    "            x = torch.tensor(x).contiguous().view(-1, x.shape[0])\n",
    "            y = torch.tensor(y).contiguous().view(-1, y.shape[0])\n",
    "            \n",
    "            x_mean = torch.mean(x, 0) \n",
    "            y_mean = torch.mean(y, 0) \n",
    "\n",
    "            x_std = torch.std(x, 1) \n",
    "            y_std = torch.std(y, 1) \n",
    "\n",
    "            # Add the calculated features to the sequence feature vector\n",
    "            sequence_features = torch.cat([x_mean, y_mean,x_std,y_std], axis=0)\n",
    "            #sequence_features = torch.where(torch.isnan(sequence_features), torch.tensor(0.0, dtype=torch.float32), sequence_features)\n",
    "\n",
    "            diff = 3258 - sequence_features.shape[0]\n",
    "            if diff > 0:\n",
    "                padding = torch.zeros(diff)\n",
    "                sequence_features = torch.cat((sequence_features, padding))\n",
    "            \n",
    "            features = sequence_features[:3258].cpu().numpy()\n",
    "            return features, result_series['label']\n",
    "\n",
    "if __name__ == '__main__':\n",
    "    df = pd.read_csv(TRAIN_FILE)\n",
    "    df = reduce_mem_usage(df) \n",
    "    df2 = df.head(30)\n",
    "\n",
    "    max_label_length = 30\n",
    "    all_features = np.zeros((df.shape[0], 3258))\n",
    "    labels = np.zeros((df.shape[0], max_label_length))\n",
    "    #all_features = []\n",
    "    #labels = []\n",
    "\n",
    "    # Process parquet files in parallel\n",
    "    with mp.Pool() as pool:\n",
    "        results = pool.imap(process_parquet, df.iterrows(), chunksize=250)\n",
    "        for i, (x, y) in tqdm(enumerate(results), total=df.shape[0]):\n",
    "            all_features[i, :] = x\n",
    "            labels[i, :len(y)] = y.values.reshape(1, -1)\n",
    "\n",
    "    # Print the shapes of the tensors\n",
    "    np.save(\"feature_data.npy\", all_features)\n",
    "    np.save(\"feature_labels.npy\", labels)\n",
    "\n",
    "    print(\"Features tensor shape:\", all_features.shape)\n",
    "    print(\"Labels tensor shape:\", labels.shape)"
   ]
  },
  {
   "cell_type": "markdown",
   "id": "e5ce8b22",
   "metadata": {
    "papermill": {
     "duration": 0.063532,
     "end_time": "2023-06-21T11:59:25.758673",
     "exception": false,
     "start_time": "2023-06-21T11:59:25.695141",
     "status": "completed"
    },
    "tags": []
   },
   "source": [
    "# 4. Evaluation Metric"
   ]
  },
  {
   "cell_type": "markdown",
   "id": "cd766a85",
   "metadata": {
    "papermill": {
     "duration": 0.054179,
     "end_time": "2023-06-21T11:59:25.867584",
     "exception": false,
     "start_time": "2023-06-21T11:59:25.813405",
     "status": "completed"
    },
    "tags": []
   },
   "source": [
    "The Levenshtein distance, also known as the edit distance, quantifies the dissimilarity between two strings by measuring the minimum number of single-character edits (insertions, deletions, or substitutions) required to transform one string into another. This metric provides a valuable measure of how well the predicted ASL sequence matches the ground truth or reference sequence.\n",
    "\n",
    "To calculate the Levenshtein distance for ASL recognition, the predicted ASL sequence and the reference or ground truth sequence are compared character by character. Each character is treated as a token, representing a specific sign or gesture. The Levenshtein distance is then computed by determining the minimum number of edit operations needed to transform the predicted sequence into the reference sequence or vice versa.\n",
    "\n",
    "The evaluation metric for this contest is the normalized total Levenshtein distance. The formula for calculating the metric is as follows:\n",
    "\n",
    "Metric = (N - D) / N\n",
    "\n",
    "Where:\n",
    "\n",
    "N is the total number of characters in the labels.\n",
    "D is the total Levenshtein distance.\n",
    "\n",
    "To calculate the metric, you would need the labels data and the predicted sequence. The Levenshtein distance measures the minimum number of single-character edits (insertions, deletions, or substitutions) required to change one sequence into another.\n",
    "\n",
    "In the given context, it seems that the labels are provided in the \"phrase\" column of the [train/supplemental_metadata].csv file. The predicted sequence can be obtained from the landmark data files in the [train/supplemental]_landmarks/ directory.\n",
    "\n",
    "To calculate the total Levenshtein distance, you would need to compare each character in the labels with the corresponding character in the predicted sequence and count the number of edits required.\n",
    "\n",
    "Finally, you can plug the values of N (total characters in the labels) and D (total Levenshtein distance) into the formula to compute the metric. The resulting value will give you an indication of the accuracy of the predicted sequence compared to the labels, with higher values indicating better performance.\n",
    "\n",
    "Note: Since the specific implementation details are not provided, you would need to write code or use existing libraries to calculate the Levenshtein distance and implement the metric calculation\n",
    "\n",
    "The LD is explained in depth in this discussion"
   ]
  },
  {
   "cell_type": "code",
   "execution_count": 28,
   "id": "6dcd95e2",
   "metadata": {
    "execution": {
     "iopub.execute_input": "2023-06-21T11:59:25.979393Z",
     "iopub.status.busy": "2023-06-21T11:59:25.978869Z",
     "iopub.status.idle": "2023-06-21T11:59:26.100709Z",
     "shell.execute_reply": "2023-06-21T11:59:26.098843Z"
    },
    "papermill": {
     "duration": 0.18193,
     "end_time": "2023-06-21T11:59:26.103616",
     "exception": false,
     "start_time": "2023-06-21T11:59:25.921686",
     "status": "completed"
    },
    "tags": []
   },
   "outputs": [
    {
     "name": "stdout",
     "output_type": "stream",
     "text": [
      "Printing The Distance Matrix:\n",
      "0 1 2 3 4 5 6 7 8 9 10 11 12 13 14 15 \n",
      "1 1 2 3 4 5 6 7 8 9 10 11 12 13 14 15 \n",
      "2 2 2 3 4 5 6 7 8 9 10 11 12 13 14 15 \n",
      "3 3 2 3 4 5 6 7 8 9 10 11 12 13 14 15 \n",
      "4 4 3 3 4 5 6 7 8 9 10 11 12 13 14 15 \n",
      "5 5 4 4 4 4 5 6 7 8 9 10 11 12 13 14 \n",
      "6 6 5 5 5 4 5 6 7 8 9 10 11 12 13 14 \n",
      "7 7 6 6 6 5 5 6 6 7 8 9 10 11 12 13 \n",
      "8 8 7 7 7 6 6 6 7 7 7 8 9 10 11 12 \n",
      "9 9 8 8 8 7 7 7 7 8 8 8 9 10 11 12 \n",
      "10 10 9 9 9 8 8 8 8 7 8 9 9 10 11 12 \n",
      "11 10 10 10 10 9 8 9 9 8 8 9 10 10 11 12 \n",
      "12 11 11 11 11 10 9 9 10 9 9 9 10 11 11 12 \n",
      " \n",
      "The Levenshtein distance of phrases = 12.00 \n"
     ]
    }
   ],
   "source": [
    "from Levenshtein import distance\n",
    "#Using the dynamic programming approach for calculating the Levenshtein distance\n",
    "\n",
    "def levenshteinDistanceDP(token1, token2):\n",
    "    # Create a 2-D matrix \n",
    "    distances = np.zeros((len(token1) + 1, len(token2) + 1))\n",
    "    \n",
    "    #Initialize the first row and column, Row index is fixed to 0 and the variable t1 is used to define the column index. \n",
    "    for t1 in range(len(token1) + 1):\n",
    "        distances[t1][0] = t1\n",
    "        \n",
    "    #Column index of the distances array is now fixed to 0, while the loop variable t2 is used to define the index of the rows\n",
    "    for t2 in range(len(token2) + 1):\n",
    "        distances[0][t2] = t2\n",
    "    a = 0\n",
    "    b = 0\n",
    "    c = 0\n",
    "    \n",
    "    #Inside the loops the distances are calculated for all combinations of prefixes from the two words. \n",
    "    for t1 in range(1, len(token1) + 1):\n",
    "        for t2 in range(1, len(token2) + 1):\n",
    "            if (token1[t1-1] == token2[t2-1]):\n",
    "                distances[t1][t2] = distances[t1 - 1][t2 - 1]\n",
    "                \n",
    "            #If the two characters are not equal, then the distance in the current cell is equal to the\n",
    "            #minimum of the three existing values in the 2 x 2 matrix after adding a cost of 1\n",
    "            else:\n",
    "                a = distances[t1][t2 - 1]\n",
    "                b = distances[t1 - 1][t2]\n",
    "                c = distances[t1 - 1][t2 - 1]\n",
    "                \n",
    "                if (a <= b and a <= c):\n",
    "                    distances[t1][t2] = a + 1\n",
    "                elif (b <= a and b <= c):\n",
    "                    distances[t1][t2] = b + 1\n",
    "                else:\n",
    "                    distances[t1][t2] = c + 1\n",
    "                    \n",
    "    #Print its contents \n",
    "    printDistances(distances, len(token1), len(token2))\n",
    "    \n",
    "    #returning the calculated distance between the two words\n",
    "    return distances[len(token1)][len(token2)]\n",
    "def printDistances(distances, token1Length, token2Length):\n",
    "    for t1 in range(token1Length + 1):\n",
    "        for t2 in range(token2Length + 1):\n",
    "            print(int(distances[t1][t2]), end=\" \")\n",
    "        print()\n",
    "        \n",
    "phase1 = '3 creekhouse'\n",
    "phase2 = 'scales/kuhaylah'\n",
    "\n",
    "#Calling levenshteinDistanceDP function, \n",
    "#It returns an integer representing the distance between them\n",
    "\n",
    "print(\"Printing The Distance Matrix:\")\n",
    "print(f\" \\nThe Levenshtein distance of phrases = {levenshteinDistanceDP(phase1, phase2):.02f} \")"
   ]
  }
 ],
 "metadata": {
  "kernelspec": {
   "display_name": "Python 3",
   "language": "python",
   "name": "python3"
  },
  "language_info": {
   "codemirror_mode": {
    "name": "ipython",
    "version": 3
   },
   "file_extension": ".py",
   "mimetype": "text/x-python",
   "name": "python",
   "nbconvert_exporter": "python",
   "pygments_lexer": "ipython3",
   "version": "3.10.10"
  },
  "papermill": {
   "default_parameters": {},
   "duration": 7563.705443,
   "end_time": "2023-06-21T11:59:29.516582",
   "environment_variables": {},
   "exception": null,
   "input_path": "__notebook__.ipynb",
   "output_path": "__notebook__.ipynb",
   "parameters": {},
   "start_time": "2023-06-21T09:53:25.811139",
   "version": "2.4.0"
  }
 },
 "nbformat": 4,
 "nbformat_minor": 5
}
