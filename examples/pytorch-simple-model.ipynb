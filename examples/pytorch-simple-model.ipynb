{
 "cells": [
  {
   "cell_type": "markdown",
   "id": "fb92f959",
   "metadata": {
    "papermill": {
     "duration": 0.003695,
     "end_time": "2023-05-25T00:11:51.100190",
     "exception": false,
     "start_time": "2023-05-25T00:11:51.096495",
     "status": "completed"
    },
    "tags": []
   },
   "source": [
    "### Install dependency"
   ]
  },
  {
   "cell_type": "code",
   "execution_count": 1,
   "id": "193caa88",
   "metadata": {
    "execution": {
     "iopub.execute_input": "2023-05-25T00:11:51.107997Z",
     "iopub.status.busy": "2023-05-25T00:11:51.107650Z",
     "iopub.status.idle": "2023-05-25T00:12:01.280067Z",
     "shell.execute_reply": "2023-05-25T00:12:01.278960Z"
    },
    "papermill": {
     "duration": 10.179419,
     "end_time": "2023-05-25T00:12:01.282669",
     "exception": false,
     "start_time": "2023-05-25T00:11:51.103250",
     "status": "completed"
    },
    "tags": []
   },
   "outputs": [
    {
     "name": "stdout",
     "output_type": "stream",
     "text": [
      "Collecting onnx_tf\r\n",
      "  Downloading onnx_tf-1.10.0-py3-none-any.whl (226 kB)\r\n",
      "\u001b[2K     \u001b[90m━━━━━━━━━━━━━━━━━━━━━━━━━━━━━━━━━━━━━━\u001b[0m \u001b[32m226.1/226.1 kB\u001b[0m \u001b[31m11.0 MB/s\u001b[0m eta \u001b[36m0:00:00\u001b[0m\r\n",
      "\u001b[?25hRequirement already satisfied: PyYAML in /opt/conda/lib/python3.7/site-packages (from onnx_tf) (6.0)\r\n",
      "Requirement already satisfied: tensorflow-addons in /opt/conda/lib/python3.7/site-packages (from onnx_tf) (0.19.0)\r\n",
      "Requirement already satisfied: onnx>=1.10.2 in /opt/conda/lib/python3.7/site-packages (from onnx_tf) (1.13.1)\r\n",
      "Requirement already satisfied: numpy>=1.16.6 in /opt/conda/lib/python3.7/site-packages (from onnx>=1.10.2->onnx_tf) (1.21.6)\r\n",
      "Requirement already satisfied: protobuf<4,>=3.20.2 in /opt/conda/lib/python3.7/site-packages (from onnx>=1.10.2->onnx_tf) (3.20.3)\r\n",
      "Requirement already satisfied: typing-extensions>=3.6.2.1 in /opt/conda/lib/python3.7/site-packages (from onnx>=1.10.2->onnx_tf) (4.4.0)\r\n",
      "Requirement already satisfied: packaging in /opt/conda/lib/python3.7/site-packages (from tensorflow-addons->onnx_tf) (23.0)\r\n",
      "Requirement already satisfied: typeguard>=2.7 in /opt/conda/lib/python3.7/site-packages (from tensorflow-addons->onnx_tf) (2.13.3)\r\n",
      "Installing collected packages: onnx_tf\r\n",
      "Successfully installed onnx_tf-1.10.0\r\n",
      "\u001b[33mWARNING: Running pip as the 'root' user can result in broken permissions and conflicting behaviour with the system package manager. It is recommended to use a virtual environment instead: https://pip.pypa.io/warnings/venv\u001b[0m\u001b[33m\r\n",
      "\u001b[0m"
     ]
    }
   ],
   "source": [
    "!pip install onnx_tf"
   ]
  },
  {
   "cell_type": "code",
   "execution_count": 2,
   "id": "780a5662",
   "metadata": {
    "execution": {
     "iopub.execute_input": "2023-05-25T00:12:01.291657Z",
     "iopub.status.busy": "2023-05-25T00:12:01.291155Z",
     "iopub.status.idle": "2023-05-25T00:12:13.599773Z",
     "shell.execute_reply": "2023-05-25T00:12:13.598344Z"
    },
    "papermill": {
     "duration": 12.315842,
     "end_time": "2023-05-25T00:12:13.602118",
     "exception": false,
     "start_time": "2023-05-25T00:12:01.286276",
     "status": "completed"
    },
    "tags": []
   },
   "outputs": [],
   "source": [
    "import os\n",
    "import sys\n",
    "import json\n",
    "import numpy as np\n",
    "import pandas as pd\n",
    "import torch\n",
    "import torch.nn as nn\n",
    "import onnx\n",
    "import onnx_tf\n",
    "import tensorflow as tf\n",
    "\n",
    "import warnings\n",
    "warnings.filterwarnings(action='ignore')"
   ]
  },
  {
   "cell_type": "code",
   "execution_count": 3,
   "id": "c95b8902",
   "metadata": {
    "execution": {
     "iopub.execute_input": "2023-05-25T00:12:13.610710Z",
     "iopub.status.busy": "2023-05-25T00:12:13.610069Z",
     "iopub.status.idle": "2023-05-25T00:12:13.617368Z",
     "shell.execute_reply": "2023-05-25T00:12:13.615870Z"
    },
    "papermill": {
     "duration": 0.014385,
     "end_time": "2023-05-25T00:12:13.620049",
     "exception": false,
     "start_time": "2023-05-25T00:12:13.605664",
     "status": "completed"
    },
    "tags": []
   },
   "outputs": [],
   "source": [
    "models_path = \"/dataset/working/\"\n",
    "onnx_model_path = os.path.join(models_path, 'model.onnx')\n",
    "tf_model_path = os.path.join(models_path, 'tf_model')\n",
    "tflite_model_path = os.path.join(models_path, 'model.tflite')\n",
    "inference_args_path = os.path.join(models_path, 'inference_args.json')\n"
   ]
  },
  {
   "cell_type": "code",
   "execution_count": 4,
   "id": "b00438b1",
   "metadata": {
    "execution": {
     "iopub.execute_input": "2023-05-25T00:12:13.628637Z",
     "iopub.status.busy": "2023-05-25T00:12:13.628224Z",
     "iopub.status.idle": "2023-05-25T00:12:13.635087Z",
     "shell.execute_reply": "2023-05-25T00:12:13.633798Z"
    },
    "papermill": {
     "duration": 0.013283,
     "end_time": "2023-05-25T00:12:13.637043",
     "exception": false,
     "start_time": "2023-05-25T00:12:13.623760",
     "status": "completed"
    },
    "tags": []
   },
   "outputs": [],
   "source": [
    "class Model(nn.Module):\n",
    "    def __init__(self, in_dim, out_dim):\n",
    "        super(Model, self).__init__()\n",
    "        self.linear = nn.Linear(in_dim, out_dim)\n",
    "\n",
    "    def forward(self, h):\n",
    "        h = torch.tensor(h)\n",
    "        h[torch.isnan(h)] = 0\n",
    "       \n",
    "        # print(h.shape)\n",
    "        h = self.linear(h)\n",
    "        return h\n"
   ]
  },
  {
   "cell_type": "code",
   "execution_count": 5,
   "id": "a12aa38a",
   "metadata": {
    "execution": {
     "iopub.execute_input": "2023-05-25T00:12:13.645975Z",
     "iopub.status.busy": "2023-05-25T00:12:13.645021Z",
     "iopub.status.idle": "2023-05-25T00:12:13.653744Z",
     "shell.execute_reply": "2023-05-25T00:12:13.652812Z"
    },
    "papermill": {
     "duration": 0.015206,
     "end_time": "2023-05-25T00:12:13.655763",
     "exception": false,
     "start_time": "2023-05-25T00:12:13.640557",
     "status": "completed"
    },
    "tags": []
   },
   "outputs": [],
   "source": [
    "selected_columns = ['x_right_hand_0', 'y_right_hand_0', 'z_right_hand_0',\n",
    "                    'x_right_hand_1', 'y_right_hand_1', 'z_right_hand_1',\n",
    "                    'x_right_hand_2', 'y_right_hand_2', 'z_right_hand_2',\n",
    "                    'x_right_hand_3', 'y_right_hand_3', 'z_right_hand_3',\n",
    "                    'x_right_hand_4', 'y_right_hand_4', 'z_right_hand_4',\n",
    "                    'x_right_hand_5', 'y_right_hand_5', 'z_right_hand_5',\n",
    "                    'x_right_hand_6', 'y_right_hand_6', 'z_right_hand_6',\n",
    "                    'x_right_hand_7', 'y_right_hand_7', 'z_right_hand_7',\n",
    "                    'x_right_hand_8', 'y_right_hand_8', 'z_right_hand_8',\n",
    "                    'x_right_hand_9', 'y_right_hand_9', 'z_right_hand_9',\n",
    "                    'x_right_hand_10', 'y_right_hand_10', 'z_right_hand_10',\n",
    "                    'x_right_hand_11', 'y_right_hand_11', 'z_right_hand_11',\n",
    "                    'x_right_hand_12', 'y_right_hand_12', 'z_right_hand_12',\n",
    "                    'x_right_hand_13', 'y_right_hand_13', 'z_right_hand_13',\n",
    "                    'x_right_hand_14', 'y_right_hand_14', 'z_right_hand_14',\n",
    "                    'x_right_hand_15', 'y_right_hand_15', 'z_right_hand_15',\n",
    "                    'x_right_hand_16', 'y_right_hand_16', 'z_right_hand_16',\n",
    "                    'x_right_hand_17', 'y_right_hand_17', 'z_right_hand_17',\n",
    "                    'x_right_hand_18', 'y_right_hand_18', 'z_right_hand_18',\n",
    "                    'x_right_hand_19', 'y_right_hand_19', 'z_right_hand_19',\n",
    "                    'x_right_hand_20', 'y_right_hand_20', 'z_right_hand_20',\n",
    "                    ]\n",
    "\n",
    "selected_columns_dict = {\"selected_columns\": selected_columns}\n",
    "\n",
    "with open(inference_args_path, \"w\") as f:\n",
    "    json.dump(selected_columns_dict, f)\n",
    "\n"
   ]
  },
  {
   "cell_type": "code",
   "execution_count": 6,
   "id": "0eb2350b",
   "metadata": {
    "execution": {
     "iopub.execute_input": "2023-05-25T00:12:13.663712Z",
     "iopub.status.busy": "2023-05-25T00:12:13.663406Z",
     "iopub.status.idle": "2023-05-25T00:12:14.666559Z",
     "shell.execute_reply": "2023-05-25T00:12:14.665663Z"
    },
    "papermill": {
     "duration": 1.009693,
     "end_time": "2023-05-25T00:12:14.668946",
     "exception": false,
     "start_time": "2023-05-25T00:12:13.659253",
     "status": "completed"
    },
    "tags": []
   },
   "outputs": [
    {
     "name": "stdout",
     "output_type": "stream",
     "text": [
      "(161722, 63)\n"
     ]
    }
   ],
   "source": [
    "n_class = 59\n",
    "opset_version = 12\n",
    "NUM_FEATURES = len(selected_columns)\n",
    "\n",
    "pq_path = \"/dataset/input/asl-fingerspelling/train_landmarks/1019715464.parquet\"\n",
    "\n",
    "sample_input = pd.read_parquet(pq_path, columns=selected_columns)\n",
    "sample_input = sample_input.values\n",
    "print(sample_input.shape)"
   ]
  },
  {
   "cell_type": "code",
   "execution_count": 7,
   "id": "33fb07f1",
   "metadata": {
    "execution": {
     "iopub.execute_input": "2023-05-25T00:12:14.677950Z",
     "iopub.status.busy": "2023-05-25T00:12:14.676919Z",
     "iopub.status.idle": "2023-05-25T00:12:14.958498Z",
     "shell.execute_reply": "2023-05-25T00:12:14.957271Z"
    },
    "papermill": {
     "duration": 0.288643,
     "end_time": "2023-05-25T00:12:14.961193",
     "exception": false,
     "start_time": "2023-05-25T00:12:14.672550",
     "status": "completed"
    },
    "tags": []
   },
   "outputs": [
    {
     "name": "stdout",
     "output_type": "stream",
     "text": [
      "converting from torch to onnx...\n"
     ]
    }
   ],
   "source": [
    "print(\"converting from torch to onnx...\")\n",
    "\n",
    "model = Model(in_dim = NUM_FEATURES,\n",
    "              out_dim = n_class)\n",
    "\n",
    "sample_input = torch.tensor(sample_input)\n",
    "torch.onnx.export(\n",
    "    model,                       # PyTorch Model\n",
    "    sample_input,                # Input tensor\n",
    "    onnx_model_path,             # Output file (eg. 'output_model.onnx')\n",
    "    opset_version=opset_version, # Operator support version\n",
    "    input_names=['inputs'],      # Input tensor name (arbitary)\n",
    "    output_names=['outputs'],    # Output tensor name (arbitary)\n",
    "    dynamic_axes={\n",
    "        'inputs': {0: 'length',\n",
    "                   },\n",
    "        'outputs': {0: 'length',\n",
    "                    },\n",
    "\n",
    "    }\n",
    ")"
   ]
  },
  {
   "cell_type": "code",
   "execution_count": 8,
   "id": "e35954b6",
   "metadata": {
    "execution": {
     "iopub.execute_input": "2023-05-25T00:12:14.969775Z",
     "iopub.status.busy": "2023-05-25T00:12:14.969414Z",
     "iopub.status.idle": "2023-05-25T00:12:18.124319Z",
     "shell.execute_reply": "2023-05-25T00:12:18.123228Z"
    },
    "papermill": {
     "duration": 3.162056,
     "end_time": "2023-05-25T00:12:18.126948",
     "exception": false,
     "start_time": "2023-05-25T00:12:14.964892",
     "status": "completed"
    },
    "tags": []
   },
   "outputs": [
    {
     "name": "stdout",
     "output_type": "stream",
     "text": [
      "converting from onnx to tensorflow...\n"
     ]
    }
   ],
   "source": [
    "print(\"converting from onnx to tensorflow...\")\n",
    "onnx_model = onnx.load(onnx_model_path)\n",
    "tf_model = onnx_tf.backend.prepare(onnx_model)\n",
    "tf_model.export_graph(tf_model_path)"
   ]
  },
  {
   "cell_type": "code",
   "execution_count": 9,
   "id": "d6d32984",
   "metadata": {
    "execution": {
     "iopub.execute_input": "2023-05-25T00:12:18.136132Z",
     "iopub.status.busy": "2023-05-25T00:12:18.135457Z",
     "iopub.status.idle": "2023-05-25T00:12:18.481852Z",
     "shell.execute_reply": "2023-05-25T00:12:18.480572Z"
    },
    "papermill": {
     "duration": 0.353958,
     "end_time": "2023-05-25T00:12:18.484689",
     "exception": false,
     "start_time": "2023-05-25T00:12:18.130731",
     "status": "completed"
    },
    "tags": []
   },
   "outputs": [
    {
     "name": "stdout",
     "output_type": "stream",
     "text": [
      "converting from tensorflow to tflite\n",
      "converting finish!!\n"
     ]
    }
   ],
   "source": [
    "print(\"converting from tensorflow to tflite\")\n",
    "converter = tf.lite.TFLiteConverter.from_saved_model(tf_model_path)\n",
    "converter.optimizations = [tf.lite.Optimize.DEFAULT]\n",
    "converter.target_spec.supported_types = [tf.float16]\n",
    "# converter.target_spec.supported_types = [tf.float32]\n",
    "converter.experimental_new_converter = True\n",
    "converter.target_spec.supported_ops = [tf.lite.OpsSet.TFLITE_BUILTINS,\n",
    "                                       tf.lite.OpsSet.SELECT_TF_OPS]\n",
    "tflite_model = converter.convert()\n",
    "# Save the model\n",
    "with open(tflite_model_path, 'wb') as f:\n",
    "    f.write(tflite_model)\n",
    "print(\"converting finish!!\")\n",
    "# %%"
   ]
  },
  {
   "cell_type": "code",
   "execution_count": 10,
   "id": "d7cd3fc2",
   "metadata": {
    "execution": {
     "iopub.execute_input": "2023-05-25T00:12:18.494078Z",
     "iopub.status.busy": "2023-05-25T00:12:18.493692Z",
     "iopub.status.idle": "2023-05-25T00:12:18.764750Z",
     "shell.execute_reply": "2023-05-25T00:12:18.763425Z"
    },
    "papermill": {
     "duration": 0.278814,
     "end_time": "2023-05-25T00:12:18.767390",
     "exception": false,
     "start_time": "2023-05-25T00:12:18.488576",
     "status": "completed"
    },
    "tags": []
   },
   "outputs": [
    {
     "name": "stdout",
     "output_type": "stream",
     "text": [
      "  adding: dataset/working/model.tflite (deflated 18%)\r\n",
      "  adding: dataset/working/inference_args.json (deflated 84%)\r\n"
     ]
    }
   ],
   "source": [
    "!zip submission.zip $tflite_model_path $inference_args_path\n"
   ]
  }
 ],
 "metadata": {
  "kernelspec": {
   "display_name": "Python 3",
   "language": "python",
   "name": "python3"
  },
  "language_info": {
   "codemirror_mode": {
    "name": "ipython",
    "version": 3
   },
   "file_extension": ".py",
   "mimetype": "text/x-python",
   "name": "python",
   "nbconvert_exporter": "python",
   "pygments_lexer": "ipython3",
   "version": "3.7.12"
  },
  "papermill": {
   "default_parameters": {},
   "duration": 41.069225,
   "end_time": "2023-05-25T00:12:22.186458",
   "environment_variables": {},
   "exception": null,
   "input_path": "__notebook__.ipynb",
   "output_path": "__notebook__.ipynb",
   "parameters": {},
   "start_time": "2023-05-25T00:11:41.117233",
   "version": "2.4.0"
  }
 },
 "nbformat": 4,
 "nbformat_minor": 5
}
